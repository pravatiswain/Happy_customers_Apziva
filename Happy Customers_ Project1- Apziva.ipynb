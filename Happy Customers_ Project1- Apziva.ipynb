{
 "cells": [
  {
   "cell_type": "markdown",
   "metadata": {},
   "source": [
    "## Problem Statement\n",
    "\n",
    "__Predict customer happiness to improve service quality.__\n",
    "\n",
    "\n",
    "ACME is one of the fastest growing startups in the logistics and delivery domain. They work with several partners and make on-demand delivery to the customers. During the COVID-19 pandemic, they are facing several different challenges and trying to address these challenges by measuring the happiness of each customer based on their feedback.\n",
    "\n",
    "__Goal(s)__: The goal of this project is to predict if the customer is happy or not based on their feedback.\n",
    "\n",
    "__Success Metrics__: Reach 73% accuracy score or above or convince why your solution is superior.Provide your insight in finding which questions/features are more important when predicting a customer’s happiness. Using a feature selection approach show us understand what is the minimal set of attributes/features that would preserve the most information about the problem while increasing predictability of the data we have. Is there any question that we can remove in our next survey?"
   ]
  },
  {
   "cell_type": "markdown",
   "metadata": {},
   "source": [
    "### Data Description:\n",
    "\n",
    "Y = target attribute (Y) with values indicating 0 (unhappy) and 1 (happy) customers\n",
    "\n",
    "X1 = my order was delivered on time\n",
    "\n",
    "X2 = contents of my order was as I expected\n",
    "\n",
    "X3 = I ordered everything I wanted to order\n",
    "\n",
    "X4 = I paid a good price for my order\n",
    "\n",
    "X5 = I am satisfied with my courier\n",
    "\n",
    "X6 = the app makes ordering easy for me\n",
    "\n",
    "Attributes X1 to X6 indicate the responses for each question and have values from 1 to 5 where the smaller number indicates less and the higher number indicates more towards the answer.\n"
   ]
  },
  {
   "cell_type": "markdown",
   "metadata": {},
   "source": [
    "### Download Data\n",
    "[Here](https://drive.google.com/file/d/1KWE3J0uU_sFIJnZ74Id3FDBcejELI7FD/view)"
   ]
  },
  {
   "cell_type": "code",
   "execution_count": 2,
   "metadata": {},
   "outputs": [
    {
     "name": "stderr",
     "output_type": "stream",
     "text": [
      "/opt/anaconda3/lib/python3.7/site-packages/sklearn/utils/deprecation.py:143: FutureWarning: The sklearn.utils.testing module is  deprecated in version 0.22 and will be removed in version 0.24. The corresponding classes / functions should instead be imported from sklearn.utils. Anything that cannot be imported from sklearn.utils is now part of the private API.\n",
      "  warnings.warn(message, FutureWarning)\n"
     ]
    }
   ],
   "source": [
    "# import libraries\n",
    "import pandas as pd\n",
    "import numpy as np\n",
    "import matplotlib.pyplot as plt\n",
    "import seaborn as sns\n",
    "\n",
    "# Import scikit-learn tools, grid search cross validation, and classifiers\n",
    "\n",
    "from sklearn import metrics\n",
    "from sklearn.metrics import roc_curve\n",
    "from sklearn.metrics import classification_report\n",
    "\n",
    "from sklearn.model_selection import train_test_split, cross_val_score,RandomizedSearchCV,GridSearchCV\n",
    "# import Random Forest Classifier\n",
    "from sklearn.ensemble import RandomForestClassifier\n",
    "\n",
    "# import Logistic Regression CV Classifier\n",
    "from sklearn.linear_model import LogisticRegression\n",
    "\n",
    "from sklearn.metrics import f1_score, precision_score, recall_score, accuracy_score, confusion_matrix, roc_auc_score\n",
    "\n",
    "from sklearn.pipeline import make_pipeline\n",
    "from sklearn.preprocessing import StandardScaler\n",
    "\n",
    "# import lazy predict\n",
    "import lazypredict\n",
    "\n",
    "from lazypredict.Supervised import LazyClassifier"
   ]
  },
  {
   "cell_type": "code",
   "execution_count": 42,
   "metadata": {},
   "outputs": [],
   "source": [
    "#import xgboost as xgb\n",
    "from xgboost import XGBClassifier\n",
    "from lightgbm import LGBMClassifier\n",
    "from sklearn.linear_model import SGDClassifier\n",
    "from scipy.stats import randint as sp_randint\n",
    "from scipy.stats import uniform as sp_uniform\n",
    "from scipy.stats import randint, uniform\n",
    "import scipy.stats as stats\n",
    "from sklearn.utils.fixes import loguniform\n",
    "\n",
    "# import Recursive Feature Elimination (RFE)\n",
    "from sklearn.feature_selection import RFE\n",
    "\n",
    "# import stacking classifier\n",
    "from sklearn.ensemble import StackingClassifier\n",
    "\n",
    "from sklearn.neighbors import KNeighborsClassifier"
   ]
  },
  {
   "cell_type": "code",
   "execution_count": 4,
   "metadata": {},
   "outputs": [
    {
     "data": {
      "text/html": [
       "<div>\n",
       "<style scoped>\n",
       "    .dataframe tbody tr th:only-of-type {\n",
       "        vertical-align: middle;\n",
       "    }\n",
       "\n",
       "    .dataframe tbody tr th {\n",
       "        vertical-align: top;\n",
       "    }\n",
       "\n",
       "    .dataframe thead th {\n",
       "        text-align: right;\n",
       "    }\n",
       "</style>\n",
       "<table border=\"1\" class=\"dataframe\">\n",
       "  <thead>\n",
       "    <tr style=\"text-align: right;\">\n",
       "      <th></th>\n",
       "      <th>Y</th>\n",
       "      <th>X1</th>\n",
       "      <th>X2</th>\n",
       "      <th>X3</th>\n",
       "      <th>X4</th>\n",
       "      <th>X5</th>\n",
       "      <th>X6</th>\n",
       "    </tr>\n",
       "  </thead>\n",
       "  <tbody>\n",
       "    <tr>\n",
       "      <th>0</th>\n",
       "      <td>0</td>\n",
       "      <td>3</td>\n",
       "      <td>3</td>\n",
       "      <td>3</td>\n",
       "      <td>4</td>\n",
       "      <td>2</td>\n",
       "      <td>4</td>\n",
       "    </tr>\n",
       "    <tr>\n",
       "      <th>1</th>\n",
       "      <td>0</td>\n",
       "      <td>3</td>\n",
       "      <td>2</td>\n",
       "      <td>3</td>\n",
       "      <td>5</td>\n",
       "      <td>4</td>\n",
       "      <td>3</td>\n",
       "    </tr>\n",
       "    <tr>\n",
       "      <th>2</th>\n",
       "      <td>1</td>\n",
       "      <td>5</td>\n",
       "      <td>3</td>\n",
       "      <td>3</td>\n",
       "      <td>3</td>\n",
       "      <td>3</td>\n",
       "      <td>5</td>\n",
       "    </tr>\n",
       "    <tr>\n",
       "      <th>3</th>\n",
       "      <td>0</td>\n",
       "      <td>5</td>\n",
       "      <td>4</td>\n",
       "      <td>3</td>\n",
       "      <td>3</td>\n",
       "      <td>3</td>\n",
       "      <td>5</td>\n",
       "    </tr>\n",
       "    <tr>\n",
       "      <th>4</th>\n",
       "      <td>0</td>\n",
       "      <td>5</td>\n",
       "      <td>4</td>\n",
       "      <td>3</td>\n",
       "      <td>3</td>\n",
       "      <td>3</td>\n",
       "      <td>5</td>\n",
       "    </tr>\n",
       "  </tbody>\n",
       "</table>\n",
       "</div>"
      ],
      "text/plain": [
       "   Y  X1  X2  X3  X4  X5  X6\n",
       "0  0   3   3   3   4   2   4\n",
       "1  0   3   2   3   5   4   3\n",
       "2  1   5   3   3   3   3   5\n",
       "3  0   5   4   3   3   3   5\n",
       "4  0   5   4   3   3   3   5"
      ]
     },
     "execution_count": 4,
     "metadata": {},
     "output_type": "execute_result"
    }
   ],
   "source": [
    "# load the dataset\n",
    "customer_data = pd.read_csv('ACME-HappinessSurvey2020.csv')\n",
    "customer_data.head()"
   ]
  },
  {
   "cell_type": "code",
   "execution_count": 5,
   "metadata": {},
   "outputs": [
    {
     "data": {
      "text/plain": [
       "(126, 7)"
      ]
     },
     "execution_count": 5,
     "metadata": {},
     "output_type": "execute_result"
    }
   ],
   "source": [
    "# no of rows and columns in the dataset\n",
    "customer_data.shape"
   ]
  },
  {
   "cell_type": "code",
   "execution_count": 6,
   "metadata": {},
   "outputs": [
    {
     "name": "stdout",
     "output_type": "stream",
     "text": [
      "<class 'pandas.core.frame.DataFrame'>\n",
      "RangeIndex: 126 entries, 0 to 125\n",
      "Data columns (total 7 columns):\n",
      " #   Column  Non-Null Count  Dtype\n",
      "---  ------  --------------  -----\n",
      " 0   Y       126 non-null    int64\n",
      " 1   X1      126 non-null    int64\n",
      " 2   X2      126 non-null    int64\n",
      " 3   X3      126 non-null    int64\n",
      " 4   X4      126 non-null    int64\n",
      " 5   X5      126 non-null    int64\n",
      " 6   X6      126 non-null    int64\n",
      "dtypes: int64(7)\n",
      "memory usage: 7.0 KB\n"
     ]
    }
   ],
   "source": [
    "customer_data.info()"
   ]
  },
  {
   "cell_type": "code",
   "execution_count": 7,
   "metadata": {},
   "outputs": [
    {
     "data": {
      "text/html": [
       "<div>\n",
       "<style scoped>\n",
       "    .dataframe tbody tr th:only-of-type {\n",
       "        vertical-align: middle;\n",
       "    }\n",
       "\n",
       "    .dataframe tbody tr th {\n",
       "        vertical-align: top;\n",
       "    }\n",
       "\n",
       "    .dataframe thead th {\n",
       "        text-align: right;\n",
       "    }\n",
       "</style>\n",
       "<table border=\"1\" class=\"dataframe\">\n",
       "  <thead>\n",
       "    <tr style=\"text-align: right;\">\n",
       "      <th></th>\n",
       "      <th>happiness</th>\n",
       "      <th>on_time_delivery</th>\n",
       "      <th>contents_of_order</th>\n",
       "      <th>ordered_everything</th>\n",
       "      <th>good_price_paid</th>\n",
       "      <th>courier_satisfaction</th>\n",
       "      <th>easy_ordering_app</th>\n",
       "    </tr>\n",
       "  </thead>\n",
       "  <tbody>\n",
       "    <tr>\n",
       "      <th>0</th>\n",
       "      <td>0</td>\n",
       "      <td>3</td>\n",
       "      <td>3</td>\n",
       "      <td>3</td>\n",
       "      <td>4</td>\n",
       "      <td>2</td>\n",
       "      <td>4</td>\n",
       "    </tr>\n",
       "    <tr>\n",
       "      <th>1</th>\n",
       "      <td>0</td>\n",
       "      <td>3</td>\n",
       "      <td>2</td>\n",
       "      <td>3</td>\n",
       "      <td>5</td>\n",
       "      <td>4</td>\n",
       "      <td>3</td>\n",
       "    </tr>\n",
       "    <tr>\n",
       "      <th>2</th>\n",
       "      <td>1</td>\n",
       "      <td>5</td>\n",
       "      <td>3</td>\n",
       "      <td>3</td>\n",
       "      <td>3</td>\n",
       "      <td>3</td>\n",
       "      <td>5</td>\n",
       "    </tr>\n",
       "    <tr>\n",
       "      <th>3</th>\n",
       "      <td>0</td>\n",
       "      <td>5</td>\n",
       "      <td>4</td>\n",
       "      <td>3</td>\n",
       "      <td>3</td>\n",
       "      <td>3</td>\n",
       "      <td>5</td>\n",
       "    </tr>\n",
       "    <tr>\n",
       "      <th>4</th>\n",
       "      <td>0</td>\n",
       "      <td>5</td>\n",
       "      <td>4</td>\n",
       "      <td>3</td>\n",
       "      <td>3</td>\n",
       "      <td>3</td>\n",
       "      <td>5</td>\n",
       "    </tr>\n",
       "  </tbody>\n",
       "</table>\n",
       "</div>"
      ],
      "text/plain": [
       "   happiness  on_time_delivery  contents_of_order  ordered_everything  \\\n",
       "0          0                 3                  3                   3   \n",
       "1          0                 3                  2                   3   \n",
       "2          1                 5                  3                   3   \n",
       "3          0                 5                  4                   3   \n",
       "4          0                 5                  4                   3   \n",
       "\n",
       "   good_price_paid  courier_satisfaction  easy_ordering_app  \n",
       "0                4                     2                  4  \n",
       "1                5                     4                  3  \n",
       "2                3                     3                  5  \n",
       "3                3                     3                  5  \n",
       "4                3                     3                  5  "
      ]
     },
     "execution_count": 7,
     "metadata": {},
     "output_type": "execute_result"
    }
   ],
   "source": [
    "# rename the columns\n",
    "customer_data = customer_data.rename(columns = {'Y': 'happiness', 'X1':'on_time_delivery', 'X2':'contents_of_order', 'X3':'ordered_everything', 'X4': 'good_price_paid', 'X5':'courier_satisfaction', 'X6': 'easy_ordering_app'})\n",
    "customer_data.head()"
   ]
  },
  {
   "cell_type": "code",
   "execution_count": 8,
   "metadata": {},
   "outputs": [
    {
     "data": {
      "text/html": [
       "<div>\n",
       "<style scoped>\n",
       "    .dataframe tbody tr th:only-of-type {\n",
       "        vertical-align: middle;\n",
       "    }\n",
       "\n",
       "    .dataframe tbody tr th {\n",
       "        vertical-align: top;\n",
       "    }\n",
       "\n",
       "    .dataframe thead th {\n",
       "        text-align: right;\n",
       "    }\n",
       "</style>\n",
       "<table border=\"1\" class=\"dataframe\">\n",
       "  <thead>\n",
       "    <tr style=\"text-align: right;\">\n",
       "      <th></th>\n",
       "      <th>happiness</th>\n",
       "      <th>on_time_delivery</th>\n",
       "      <th>contents_of_order</th>\n",
       "      <th>ordered_everything</th>\n",
       "      <th>good_price_paid</th>\n",
       "      <th>courier_satisfaction</th>\n",
       "      <th>easy_ordering_app</th>\n",
       "    </tr>\n",
       "  </thead>\n",
       "  <tbody>\n",
       "    <tr>\n",
       "      <th>count</th>\n",
       "      <td>126.00</td>\n",
       "      <td>126.00</td>\n",
       "      <td>126.00</td>\n",
       "      <td>126.00</td>\n",
       "      <td>126.00</td>\n",
       "      <td>126.00</td>\n",
       "      <td>126.00</td>\n",
       "    </tr>\n",
       "    <tr>\n",
       "      <th>mean</th>\n",
       "      <td>0.55</td>\n",
       "      <td>4.33</td>\n",
       "      <td>2.53</td>\n",
       "      <td>3.31</td>\n",
       "      <td>3.75</td>\n",
       "      <td>3.65</td>\n",
       "      <td>4.25</td>\n",
       "    </tr>\n",
       "    <tr>\n",
       "      <th>std</th>\n",
       "      <td>0.50</td>\n",
       "      <td>0.80</td>\n",
       "      <td>1.11</td>\n",
       "      <td>1.02</td>\n",
       "      <td>0.88</td>\n",
       "      <td>1.15</td>\n",
       "      <td>0.81</td>\n",
       "    </tr>\n",
       "    <tr>\n",
       "      <th>min</th>\n",
       "      <td>0.00</td>\n",
       "      <td>1.00</td>\n",
       "      <td>1.00</td>\n",
       "      <td>1.00</td>\n",
       "      <td>1.00</td>\n",
       "      <td>1.00</td>\n",
       "      <td>1.00</td>\n",
       "    </tr>\n",
       "    <tr>\n",
       "      <th>25%</th>\n",
       "      <td>0.00</td>\n",
       "      <td>4.00</td>\n",
       "      <td>2.00</td>\n",
       "      <td>3.00</td>\n",
       "      <td>3.00</td>\n",
       "      <td>3.00</td>\n",
       "      <td>4.00</td>\n",
       "    </tr>\n",
       "    <tr>\n",
       "      <th>50%</th>\n",
       "      <td>1.00</td>\n",
       "      <td>5.00</td>\n",
       "      <td>3.00</td>\n",
       "      <td>3.00</td>\n",
       "      <td>4.00</td>\n",
       "      <td>4.00</td>\n",
       "      <td>4.00</td>\n",
       "    </tr>\n",
       "    <tr>\n",
       "      <th>75%</th>\n",
       "      <td>1.00</td>\n",
       "      <td>5.00</td>\n",
       "      <td>3.00</td>\n",
       "      <td>4.00</td>\n",
       "      <td>4.00</td>\n",
       "      <td>4.00</td>\n",
       "      <td>5.00</td>\n",
       "    </tr>\n",
       "    <tr>\n",
       "      <th>max</th>\n",
       "      <td>1.00</td>\n",
       "      <td>5.00</td>\n",
       "      <td>5.00</td>\n",
       "      <td>5.00</td>\n",
       "      <td>5.00</td>\n",
       "      <td>5.00</td>\n",
       "      <td>5.00</td>\n",
       "    </tr>\n",
       "  </tbody>\n",
       "</table>\n",
       "</div>"
      ],
      "text/plain": [
       "       happiness  on_time_delivery  contents_of_order  ordered_everything  \\\n",
       "count     126.00            126.00             126.00              126.00   \n",
       "mean        0.55              4.33               2.53                3.31   \n",
       "std         0.50              0.80               1.11                1.02   \n",
       "min         0.00              1.00               1.00                1.00   \n",
       "25%         0.00              4.00               2.00                3.00   \n",
       "50%         1.00              5.00               3.00                3.00   \n",
       "75%         1.00              5.00               3.00                4.00   \n",
       "max         1.00              5.00               5.00                5.00   \n",
       "\n",
       "       good_price_paid  courier_satisfaction  easy_ordering_app  \n",
       "count           126.00                126.00             126.00  \n",
       "mean              3.75                  3.65               4.25  \n",
       "std               0.88                  1.15               0.81  \n",
       "min               1.00                  1.00               1.00  \n",
       "25%               3.00                  3.00               4.00  \n",
       "50%               4.00                  4.00               4.00  \n",
       "75%               4.00                  4.00               5.00  \n",
       "max               5.00                  5.00               5.00  "
      ]
     },
     "execution_count": 8,
     "metadata": {},
     "output_type": "execute_result"
    }
   ],
   "source": [
    "customer_data.describe()"
   ]
  },
  {
   "cell_type": "code",
   "execution_count": 9,
   "metadata": {},
   "outputs": [
    {
     "data": {
      "text/plain": [
       "16"
      ]
     },
     "execution_count": 9,
     "metadata": {},
     "output_type": "execute_result"
    }
   ],
   "source": [
    "# checking for duplicate data\n",
    "customer_data.duplicated().sum()"
   ]
  },
  {
   "cell_type": "markdown",
   "metadata": {},
   "source": [
    "The customer feedback dataset contains 127 data points and 7 features. All the features are integers with values ranging from 1 to 5 except the target variable which either 0 or 1. The statistical features of the data describes that the variable X1 (my order was delivered on time) and X6 (the app makes ordering easy for me) has higher average, indicating greater satisfaction of customer on the timely delivery and easy operation of the app. The variable X2 (contents of my order was as I expected) has lowest average indicating the less customer satisfaction on the product delivered. "
   ]
  },
  {
   "cell_type": "markdown",
   "metadata": {},
   "source": [
    "### Exploratory Data Analysis"
   ]
  },
  {
   "cell_type": "code",
   "execution_count": 10,
   "metadata": {},
   "outputs": [],
   "source": [
    "# Create a function for distribution plot\n",
    "def count_plot_(column_name, dataset):\n",
    "    ax = sns.countplot(x=column_name, data= dataset)\n",
    "    for p in ax.patches:\n",
    "        height = p.get_height()\n",
    "        ax.text(p.get_x()+p.get_width()/2.,\n",
    "            height + 3,\n",
    "            '{:1.2f}'.format(height/float(len(dataset))),\n",
    "            ha=\"center\")\n",
    "        ax.set_box_aspect(3/len(ax.patches))\n",
    "    "
   ]
  },
  {
   "cell_type": "code",
   "execution_count": 11,
   "metadata": {},
   "outputs": [
    {
     "data": {
      "image/png": "[encoded data removed]",
      "text/plain": [
       "<Figure size 576x576 with 1 Axes>"
      ]
     },
     "metadata": {
      "needs_background": "light"
     },
     "output_type": "display_data"
    }
   ],
   "source": [
    "# customer feedback (happy/unhappy customer) distribution\n",
    "plt.figure(figsize=(8, 8))\n",
    "count_plot_('happiness', customer_data)\n",
    "plt.show()"
   ]
  },
  {
   "cell_type": "markdown",
   "metadata": {},
   "source": [
    "__In this data 45% of the customers are unhappy with the service.__"
   ]
  },
  {
   "cell_type": "code",
   "execution_count": 12,
   "metadata": {},
   "outputs": [
    {
     "data": {
      "image/png": "[encoded data removed]",
      "text/plain": [
       "<Figure size 1152x864 with 6 Axes>"
      ]
     },
     "metadata": {
      "needs_background": "light"
     },
     "output_type": "display_data"
    }
   ],
   "source": [
    "# Create a function for distribution plot\n",
    "def count_plot(column_name, dataset, x=0, y=0):\n",
    "    ax = sns.countplot(x=column_name, data= dataset, ax = axes[x, y])\n",
    "    for p in ax.patches:\n",
    "        height = p.get_height()\n",
    "        ax.text(p.get_x()+p.get_width()/2.,\n",
    "            height + 3,\n",
    "            '{:1.2f}'.format(height/float(len(dataset))),\n",
    "            ha=\"center\")\n",
    "        ax.set_box_aspect(3/len(ax.patches))\n",
    "        \n",
    "# Distribution of other variables\n",
    "fig, axes =plt.subplots(2,3, figsize=(16, 12))\n",
    "count_plot('on_time_delivery', customer_data, x = 0, y= 0)\n",
    "count_plot('contents_of_order', customer_data, x = 0, y= 1)\n",
    "count_plot('ordered_everything', customer_data, x = 0, y= 2)\n",
    "count_plot('good_price_paid', customer_data, x = 1, y= 0)\n",
    "count_plot('courier_satisfaction', customer_data, x = 1, y= 1)\n",
    "count_plot('easy_ordering_app', customer_data, x = 1, y= 2)"
   ]
  },
  {
   "cell_type": "markdown",
   "metadata": {},
   "source": [
    "The feature X1 and X6 got highest number of 5 star ratings and the feature X2 got least number of 5 star ratings. Most of the customers are neutral about the feature X3 ( I ordered everything I wanted to order).\n",
    "\n",
    "####  Correlation using Pearson Correlation"
   ]
  },
  {
   "cell_type": "code",
   "execution_count": 13,
   "metadata": {},
   "outputs": [
    {
     "data": {
      "image/png": "[encoded data removed]",
      "text/plain": [
       "<Figure size 864x720 with 2 Axes>"
      ]
     },
     "metadata": {
      "needs_background": "light"
     },
     "output_type": "display_data"
    }
   ],
   "source": [
    "# Using Pearson Correlation\n",
    "plt.figure(figsize=(12,10))\n",
    "cor = customer_data.corr()\n",
    "sns.heatmap(cor, annot=True, cmap=\"coolwarm\")\n",
    "plt.show()"
   ]
  },
  {
   "cell_type": "code",
   "execution_count": 14,
   "metadata": {},
   "outputs": [
    {
     "data": {
      "text/plain": [
       "happiness              1.00\n",
       "on_time_delivery       0.28\n",
       "ordered_everything     0.15\n",
       "good_price_paid        0.06\n",
       "courier_satisfaction   0.22\n",
       "easy_ordering_app      0.17\n",
       "Name: happiness, dtype: float64"
      ]
     },
     "execution_count": 14,
     "metadata": {},
     "output_type": "execute_result"
    }
   ],
   "source": [
    "# Correlation with output variable\n",
    "cor_target = cor[\"happiness\"]\n",
    "# Selecting highly positively correlated features\n",
    "relevant_features = cor_target[cor_target>0.06]\n",
    "relevant_features"
   ]
  },
  {
   "cell_type": "markdown",
   "metadata": {},
   "source": [
    "- Positively correlated parameters are: on_time_delivery, ordered_everything, good_price_paid, courier_satisfaction and easy_ordering_app\n",
    "- Negatively correlated parameter: contents_of_order"
   ]
  },
  {
   "cell_type": "markdown",
   "metadata": {},
   "source": [
    "### Modeling with Lazy Predict"
   ]
  },
  {
   "cell_type": "code",
   "execution_count": 15,
   "metadata": {},
   "outputs": [],
   "source": [
    "#set predictor variables and target variables\n",
    "X = customer_data.drop(columns= ['happiness'])\n",
    "y = customer_data.happiness"
   ]
  },
  {
   "cell_type": "code",
   "execution_count": 16,
   "metadata": {},
   "outputs": [
    {
     "name": "stdout",
     "output_type": "stream",
     "text": [
      "X Training set sample size: 113\n",
      "X Testing set sample size: 13\n",
      "y Training set sample size: 113\n",
      "y Testing set sample size: 13\n"
     ]
    }
   ],
   "source": [
    "# split the data into training and test sets\n",
    "X_train, X_test, y_train, y_test = train_test_split(X, y, random_state=42, test_size=0.1)\n",
    "\n",
    "# Show the results of the split\n",
    "print(\"X Training set sample size:\", (X_train.shape[0]))\n",
    "print(\"X Testing set sample size:\", (X_test.shape[0]))\n",
    "print(\"y Training set sample size:\", (y_train.shape[0]))\n",
    "print(\"y Testing set sample size:\", (y_test.shape[0]))"
   ]
  },
  {
   "cell_type": "code",
   "execution_count": 17,
   "metadata": {
    "scrolled": false
   },
   "outputs": [
    {
     "name": "stderr",
     "output_type": "stream",
     "text": [
      "100%|██████████| 29/29 [00:00<00:00, 35.88it/s]"
     ]
    },
    {
     "name": "stdout",
     "output_type": "stream",
     "text": [
      "                               Accuracy  Balanced Accuracy  ROC AUC  F1 Score  \\\n",
      "Model                                                                           \n",
      "ExtraTreeClassifier                0.77               0.76     0.76      0.77   \n",
      "LabelPropagation                   0.69               0.70     0.70      0.69   \n",
      "LabelSpreading                     0.69               0.70     0.70      0.69   \n",
      "LGBMClassifier                     0.69               0.69     0.69      0.69   \n",
      "SGDClassifier                      0.69               0.69     0.69      0.69   \n",
      "QuadraticDiscriminantAnalysis      0.62               0.63     0.63      0.60   \n",
      "RandomForestClassifier             0.62               0.62     0.62      0.62   \n",
      "Perceptron                         0.62               0.62     0.62      0.62   \n",
      "NuSVC                              0.62               0.62     0.62      0.62   \n",
      "AdaBoostClassifier                 0.62               0.62     0.62      0.62   \n",
      "ExtraTreesClassifier               0.62               0.62     0.62      0.62   \n",
      "KNeighborsClassifier               0.54               0.56     0.56      0.50   \n",
      "SVC                                0.54               0.56     0.56      0.50   \n",
      "XGBClassifier                      0.54               0.55     0.55      0.53   \n",
      "BaggingClassifier                  0.54               0.55     0.55      0.53   \n",
      "BernoulliNB                        0.54               0.55     0.55      0.53   \n",
      "DecisionTreeClassifier             0.54               0.55     0.55      0.53   \n",
      "NearestCentroid                    0.46               0.48     0.48      0.44   \n",
      "GaussianNB                         0.46               0.48     0.48      0.44   \n",
      "RidgeClassifier                    0.38               0.40     0.40      0.34   \n",
      "RidgeClassifierCV                  0.38               0.40     0.40      0.34   \n",
      "LinearSVC                          0.38               0.40     0.40      0.34   \n",
      "CalibratedClassifierCV             0.38               0.40     0.40      0.34   \n",
      "PassiveAggressiveClassifier        0.38               0.40     0.40      0.34   \n",
      "LogisticRegression                 0.38               0.40     0.40      0.34   \n",
      "LinearDiscriminantAnalysis         0.38               0.40     0.40      0.34   \n",
      "DummyClassifier                    0.31               0.30     0.30      0.30   \n",
      "\n",
      "                               Time Taken  \n",
      "Model                                      \n",
      "ExtraTreeClassifier                  0.01  \n",
      "LabelPropagation                     0.01  \n",
      "LabelSpreading                       0.01  \n",
      "LGBMClassifier                       0.04  \n",
      "SGDClassifier                        0.01  \n",
      "QuadraticDiscriminantAnalysis        0.01  \n",
      "RandomForestClassifier               0.12  \n",
      "Perceptron                           0.01  \n",
      "NuSVC                                0.01  \n",
      "AdaBoostClassifier                   0.13  \n",
      "ExtraTreesClassifier                 0.10  \n",
      "KNeighborsClassifier                 0.02  \n",
      "SVC                                  0.01  \n",
      "XGBClassifier                        0.08  \n",
      "BaggingClassifier                    0.04  \n",
      "BernoulliNB                          0.02  \n",
      "DecisionTreeClassifier               0.01  \n",
      "NearestCentroid                      0.01  \n",
      "GaussianNB                           0.01  \n",
      "RidgeClassifier                      0.02  \n",
      "RidgeClassifierCV                    0.01  \n",
      "LinearSVC                            0.01  \n",
      "CalibratedClassifierCV               0.04  \n",
      "PassiveAggressiveClassifier          0.02  \n",
      "LogisticRegression                   0.01  \n",
      "LinearDiscriminantAnalysis           0.02  \n",
      "DummyClassifier                      0.01  \n"
     ]
    },
    {
     "name": "stderr",
     "output_type": "stream",
     "text": [
      "\n"
     ]
    }
   ],
   "source": [
    "clf = LazyClassifier(verbose=0,ignore_warnings=True, custom_metric=None)\n",
    "models,predictions = clf.fit(X_train, X_test, y_train, y_test)\n",
    "print(models)"
   ]
  },
  {
   "cell_type": "markdown",
   "metadata": {},
   "source": [
    "Lazy predict helps to builds different models and helps to understand which model works better without parameter tuning. Based on the lazy classifier output, I selected the top 3 classifiers for this classification problem based on the time taken and robustness of the model: LGBM (because it's a robust ensemble classifier), SGD classifier (robust classsifier), KNN (simple algorithm). I also compared Random forest, Logistic regression, XGBoost classifiers."
   ]
  },
  {
   "cell_type": "markdown",
   "metadata": {},
   "source": [
    "### Modeling: Logistic Regression, Random Forest, XGboost, LGBM, SGD and KNN with ScikitLearn"
   ]
  },
  {
   "cell_type": "code",
   "execution_count": 18,
   "metadata": {},
   "outputs": [],
   "source": [
    "def evaluate(model, X_train, X_test, y_train, y_test):\n",
    "    y_test_pred = model.predict(X_test)\n",
    "    y_train_pred = model.predict(X_train)\n",
    "    y_test_pred_proba = model.predict_proba(X_test)[:,1]\n",
    "    \n",
    "    f1 = f1_score(y_test, y_test_pred)\n",
    "    cm = confusion_matrix(y_test, y_test_pred)\n",
    "    roc= roc_auc_score(y_test, y_test_pred_proba)\n",
    "\n",
    "    print(\"TRAINIG RESULTS: \\n===============================\")\n",
    "    print(f\"ACCURACY SCORE:{accuracy_score(y_train, y_train_pred):.4f}\")\n",
    "    print(f\"CONFUSION MATRIX:\\n{confusion_matrix(y_train, y_train_pred)}\")\n",
    "    clf_report = pd.DataFrame(classification_report(y_train, y_train_pred, output_dict=True))\n",
    "    print(f\"CLASSIFICATION REPORT:\\n{clf_report}\")\n",
    "    print()\n",
    "    print()\n",
    "\n",
    "    print(\"TESTING RESULTS: \\n===============================\")\n",
    "    print(f\"ACCURACY SCORE:{accuracy_score(y_test, y_test_pred):.4f}\")\n",
    "    print(f\"CONFUSION MATRIX:\\n{confusion_matrix(y_test, y_test_pred)}\")\n",
    "    \n",
    "    print('F1-score: ' , round(f1,4))\n",
    "    print(\"Best Score: \" , round(model.best_score_,4))\n",
    "    print(\"Test ROC AUC:\", round(roc,4), '\\n')\n",
    "    print(\"Best Parameters: \" , model.best_params_)\n",
    "    clf_report = pd.DataFrame(classification_report(y_test, y_test_pred, output_dict=True))\n",
    "    print(f\"CLASSIFICATION REPORT:\\n{clf_report}\")\n",
    "    \n",
    "    \n",
    "    fpr, tpr, thresholds = roc_curve(y_test, y_test_pred_proba)\n",
    "    plt.plot([0, 1], [0, 1], 'k--')\n",
    "    plt.plot(fpr,tpr,label= 'f\"{model}\" ')\n",
    "    plt.xlabel('False Positive Rate')\n",
    "    plt.ylabel('True Positive Rate')\n",
    "    plt.title('ROC Curve')\n",
    "    plt.show()"
   ]
  },
  {
   "cell_type": "markdown",
   "metadata": {},
   "source": [
    "###  Logistic Regression"
   ]
  },
  {
   "cell_type": "code",
   "execution_count": 19,
   "metadata": {},
   "outputs": [
    {
     "name": "stdout",
     "output_type": "stream",
     "text": [
      "TRAINIG RESULTS: \n",
      "===============================\n",
      "ACCURACY SCORE:0.5929\n",
      "CONFUSION MATRIX:\n",
      "[[22 28]\n",
      " [18 45]]\n",
      "CLASSIFICATION REPORT:\n",
      "              0     1  accuracy  macro avg  weighted avg\n",
      "precision  0.55  0.62      0.59       0.58          0.59\n",
      "recall     0.44  0.71      0.59       0.58          0.59\n",
      "f1-score   0.49  0.66      0.59       0.58          0.59\n",
      "support   50.00 63.00      0.59     113.00        113.00\n",
      "\n",
      "\n",
      "TESTING RESULTS: \n",
      "===============================\n",
      "ACCURACY SCORE:0.3846\n",
      "CONFUSION MATRIX:\n",
      "[[1 6]\n",
      " [2 4]]\n",
      "F1-score:  0.5\n",
      "Best Score:  0.6293\n",
      "Test ROC AUC: 0.6905 \n",
      "\n",
      "Best Parameters:  {'penalty': 'l2', 'C': 2.0}\n",
      "CLASSIFICATION REPORT:\n",
      "             0    1  accuracy  macro avg  weighted avg\n",
      "precision 0.33 0.40      0.38       0.37          0.36\n",
      "recall    0.14 0.67      0.38       0.40          0.38\n",
      "f1-score  0.20 0.50      0.38       0.35          0.34\n",
      "support   7.00 6.00      0.38      13.00         13.00\n"
     ]
    },
    {
     "data": {
      "image/png": "[encoded data removed]",
      "text/plain": [
       "<Figure size 432x288 with 1 Axes>"
      ]
     },
     "metadata": {
      "needs_background": "light"
     },
     "output_type": "display_data"
    }
   ],
   "source": [
    "log_reg_params= {'penalty': ['l1','l2','elasticnet'], 'C':np.arange(0.5, 100.0, 0.5) }\n",
    "\n",
    "log_reg = LogisticRegression()\n",
    "log_rcv = RandomizedSearchCV(log_reg,log_reg_params,cv=10, n_jobs=-1, scoring = 'roc_auc',random_state = 42)\n",
    "log_rcv.fit(X_train, y_train)\n",
    "evaluate(log_rcv, X_train, X_test, y_train, y_test)"
   ]
  },
  {
   "cell_type": "markdown",
   "metadata": {},
   "source": [
    "### Random Forest Classifier"
   ]
  },
  {
   "cell_type": "code",
   "execution_count": 20,
   "metadata": {},
   "outputs": [
    {
     "name": "stdout",
     "output_type": "stream",
     "text": [
      "TRAINIG RESULTS: \n",
      "===============================\n",
      "ACCURACY SCORE:0.7876\n",
      "CONFUSION MATRIX:\n",
      "[[29 21]\n",
      " [ 3 60]]\n",
      "CLASSIFICATION REPORT:\n",
      "              0     1  accuracy  macro avg  weighted avg\n",
      "precision  0.91  0.74      0.79       0.82          0.81\n",
      "recall     0.58  0.95      0.79       0.77          0.79\n",
      "f1-score   0.71  0.83      0.79       0.77          0.78\n",
      "support   50.00 63.00      0.79     113.00        113.00\n",
      "\n",
      "\n",
      "TESTING RESULTS: \n",
      "===============================\n",
      "ACCURACY SCORE:0.5385\n",
      "CONFUSION MATRIX:\n",
      "[[3 4]\n",
      " [2 4]]\n",
      "F1-score:  0.5714\n",
      "Best Score:  0.654\n",
      "Test ROC AUC: 0.7381 \n",
      "\n",
      "Best Parameters:  {'n_estimators': 600, 'min_samples_split': 4, 'max_features': 'sqrt', 'max_depth': 4, 'criterion': 'entropy'}\n",
      "CLASSIFICATION REPORT:\n",
      "             0    1  accuracy  macro avg  weighted avg\n",
      "precision 0.60 0.50      0.54       0.55          0.55\n",
      "recall    0.43 0.67      0.54       0.55          0.54\n",
      "f1-score  0.50 0.57      0.54       0.54          0.53\n",
      "support   7.00 6.00      0.54      13.00         13.00\n"
     ]
    },
    {
     "data": {
      "image/png": "[encoded data removed]",
      "text/plain": [
       "<Figure size 432x288 with 1 Axes>"
      ]
     },
     "metadata": {
      "needs_background": "light"
     },
     "output_type": "display_data"
    }
   ],
   "source": [
    "rf_params= { 'n_estimators': [500,600,800,1000,1500, 1800, 2000], \n",
    "             'max_features': ['auto', 'sqrt', 'log2'], \n",
    "             'max_depth' :  np.arange(4,20), \n",
    "             'criterion' :['gini', 'entropy'],\n",
    "            'min_samples_split' : [2, 3, 4] }\n",
    "rf = RandomForestClassifier()\n",
    "rf_rcv = RandomizedSearchCV(rf,rf_params,cv=10, n_jobs=-1, scoring = 'roc_auc',random_state = 42)\n",
    "rf_rcv.fit(X_train, y_train)\n",
    "evaluate(rf_rcv, X_train, X_test, y_train, y_test)"
   ]
  },
  {
   "cell_type": "markdown",
   "metadata": {},
   "source": [
    "#### Feature importance "
   ]
  },
  {
   "cell_type": "code",
   "execution_count": 24,
   "metadata": {},
   "outputs": [
    {
     "data": {
      "text/html": [
       "<div>\n",
       "<style scoped>\n",
       "    .dataframe tbody tr th:only-of-type {\n",
       "        vertical-align: middle;\n",
       "    }\n",
       "\n",
       "    .dataframe tbody tr th {\n",
       "        vertical-align: top;\n",
       "    }\n",
       "\n",
       "    .dataframe thead th {\n",
       "        text-align: right;\n",
       "    }\n",
       "</style>\n",
       "<table border=\"1\" class=\"dataframe\">\n",
       "  <thead>\n",
       "    <tr style=\"text-align: right;\">\n",
       "      <th></th>\n",
       "      <th>importance</th>\n",
       "    </tr>\n",
       "  </thead>\n",
       "  <tbody>\n",
       "    <tr>\n",
       "      <th>contents_of_order</th>\n",
       "      <td>0.19</td>\n",
       "    </tr>\n",
       "    <tr>\n",
       "      <th>ordered_everything</th>\n",
       "      <td>0.19</td>\n",
       "    </tr>\n",
       "    <tr>\n",
       "      <th>courier_satisfaction</th>\n",
       "      <td>0.17</td>\n",
       "    </tr>\n",
       "    <tr>\n",
       "      <th>on_time_delivery</th>\n",
       "      <td>0.16</td>\n",
       "    </tr>\n",
       "    <tr>\n",
       "      <th>good_price_paid</th>\n",
       "      <td>0.16</td>\n",
       "    </tr>\n",
       "    <tr>\n",
       "      <th>easy_ordering_app</th>\n",
       "      <td>0.14</td>\n",
       "    </tr>\n",
       "  </tbody>\n",
       "</table>\n",
       "</div>"
      ],
      "text/plain": [
       "                      importance\n",
       "contents_of_order           0.19\n",
       "ordered_everything          0.19\n",
       "courier_satisfaction        0.17\n",
       "on_time_delivery            0.16\n",
       "good_price_paid             0.16\n",
       "easy_ordering_app           0.14"
      ]
     },
     "execution_count": 24,
     "metadata": {},
     "output_type": "execute_result"
    }
   ],
   "source": [
    "# Instantiate and fit the random forest model. \n",
    "rf = RandomForestClassifier().fit(X_train, y_train) \n",
    "# Explore feature importances\n",
    "feature_importances = pd.DataFrame(rf.feature_importances_,\n",
    "                                   index = X_train.columns,\n",
    "                                    columns=['importance']).sort_values('importance', ascending=False)\n",
    "# Print sorted list of feature importances\n",
    "feature_importances"
   ]
  },
  {
   "cell_type": "markdown",
   "metadata": {},
   "source": [
    "### XGBoost"
   ]
  },
  {
   "cell_type": "code",
   "execution_count": 25,
   "metadata": {},
   "outputs": [
    {
     "name": "stdout",
     "output_type": "stream",
     "text": [
      "[14:46:56] WARNING: /Users/travis/build/dmlc/xgboost/src/learner.cc:480: \n",
      "Parameters: { silent } might not be used.\n",
      "\n",
      "  This may not be accurate due to some parameters are only used in language bindings but\n",
      "  passed down to XGBoost core.  Or some parameters are not used but slip through this\n",
      "  verification. Please open an issue if you find above cases.\n",
      "\n",
      "\n",
      "TRAINIG RESULTS: \n",
      "===============================\n",
      "ACCURACY SCORE:0.8761\n",
      "CONFUSION MATRIX:\n",
      "[[38 12]\n",
      " [ 2 61]]\n",
      "CLASSIFICATION REPORT:\n",
      "              0     1  accuracy  macro avg  weighted avg\n",
      "precision  0.95  0.84      0.88       0.89          0.89\n",
      "recall     0.76  0.97      0.88       0.86          0.88\n",
      "f1-score   0.84  0.90      0.88       0.87          0.87\n",
      "support   50.00 63.00      0.88     113.00        113.00\n",
      "\n",
      "\n",
      "TESTING RESULTS: \n",
      "===============================\n",
      "ACCURACY SCORE:0.6154\n",
      "CONFUSION MATRIX:\n",
      "[[4 3]\n",
      " [2 4]]\n",
      "F1-score:  0.6154\n",
      "Best Score:  0.5893\n",
      "Test ROC AUC: 0.6905 \n",
      "\n",
      "Best Parameters:  {'subsample': 0.89, 'silent': 1, 'seed': 27, 'objective': 'binary:logistic', 'nthread': 10, 'n_estimators': 1000, 'min_child_weight': 1, 'max_depth': 2, 'learning_rate': 0.05, 'colsample_bytree': 0.58}\n",
      "CLASSIFICATION REPORT:\n",
      "             0    1  accuracy  macro avg  weighted avg\n",
      "precision 0.67 0.57      0.62       0.62          0.62\n",
      "recall    0.57 0.67      0.62       0.62          0.62\n",
      "f1-score  0.62 0.62      0.62       0.62          0.62\n",
      "support   7.00 6.00      0.62      13.00         13.00\n"
     ]
    },
    {
     "data": {
      "image/png": "[encoded data removed]",
      "text/plain": [
       "<Figure size 432x288 with 1 Axes>"
      ]
     },
     "metadata": {
      "needs_background": "light"
     },
     "output_type": "display_data"
    }
   ],
   "source": [
    "xgb_params= {'nthread':[10], #when use hyperthread, xgboost may become slower\n",
    "              'objective':['binary:logistic'],\n",
    "              'learning_rate': [0.05], #so called `eta` value\n",
    "              'max_depth': [2],\n",
    "              'min_child_weight':[1] ,\n",
    "              'silent': [1],\n",
    "              'subsample': [.89,.91,.895],\n",
    "              'colsample_bytree':[.58,.585],\n",
    "              'n_estimators': [1000],\n",
    "             'seed': [27]}\n",
    "             \n",
    "xgb = XGBClassifier()\n",
    "xgb_rcv = RandomizedSearchCV(xgb,xgb_params,cv=10, n_jobs=-1, scoring = 'roc_auc',random_state = 42)\n",
    "xgb_rcv.fit(X_train, y_train)\n",
    "evaluate(xgb_rcv, X_train, X_test, y_train, y_test)"
   ]
  },
  {
   "cell_type": "markdown",
   "metadata": {},
   "source": [
    "### LGBM Classifier"
   ]
  },
  {
   "cell_type": "code",
   "execution_count": 41,
   "metadata": {
    "scrolled": true
   },
   "outputs": [
    {
     "name": "stdout",
     "output_type": "stream",
     "text": [
      "TRAINIG RESULTS: \n",
      "===============================\n",
      "ACCURACY SCORE:0.7522\n",
      "CONFUSION MATRIX:\n",
      "[[29 21]\n",
      " [ 7 56]]\n",
      "CLASSIFICATION REPORT:\n",
      "              0     1  accuracy  macro avg  weighted avg\n",
      "precision  0.81  0.73      0.75       0.77          0.76\n",
      "recall     0.58  0.89      0.75       0.73          0.75\n",
      "f1-score   0.67  0.80      0.75       0.74          0.74\n",
      "support   50.00 63.00      0.75     113.00        113.00\n",
      "\n",
      "\n",
      "TESTING RESULTS: \n",
      "===============================\n",
      "ACCURACY SCORE:0.6923\n",
      "CONFUSION MATRIX:\n",
      "[[5 2]\n",
      " [2 4]]\n",
      "F1-score:  0.6667\n",
      "Best Score:  0.5931\n",
      "Test ROC AUC: 0.7262 \n",
      "\n",
      "Best Parameters:  {'num_leaves': 300, 'min_child_weight': 0.2}\n",
      "CLASSIFICATION REPORT:\n",
      "             0    1  accuracy  macro avg  weighted avg\n",
      "precision 0.71 0.67      0.69       0.69          0.69\n",
      "recall    0.71 0.67      0.69       0.69          0.69\n",
      "f1-score  0.71 0.67      0.69       0.69          0.69\n",
      "support   7.00 6.00      0.69      13.00         13.00\n"
     ]
    },
    {
     "data": {
      "image/png": "[encoded data removed]",
      "text/plain": [
       "<Figure size 432x288 with 1 Axes>"
      ]
     },
     "metadata": {
      "needs_background": "light"
     },
     "output_type": "display_data"
    }
   ],
   "source": [
    "lgbm_params = {\n",
    "          'num_leaves': np.arange(100,500,100),\n",
    "          'min_child_weight': np.arange(0.01,1,0.01),\n",
    "    }        \n",
    "lgbm = LGBMClassifier()\n",
    "lgbm_rcv = RandomizedSearchCV(lgbm,lgbm_params, cv=10, n_jobs=-1, scoring = 'roc_auc',random_state = 42)\n",
    "lgbm_rcv.fit(X_train, y_train)\n",
    "lgbm_rcv.fit(X_train, y_train)\n",
    "evaluate(lgbm_rcv, X_train, X_test, y_train, y_test)"
   ]
  },
  {
   "cell_type": "markdown",
   "metadata": {},
   "source": [
    "### SGD classifier"
   ]
  },
  {
   "cell_type": "code",
   "execution_count": 27,
   "metadata": {},
   "outputs": [
    {
     "name": "stdout",
     "output_type": "stream",
     "text": [
      "TRAINIG RESULTS: \n",
      "===============================\n",
      "ACCURACY SCORE:0.6106\n",
      "CONFUSION MATRIX:\n",
      "[[24 26]\n",
      " [18 45]]\n",
      "CLASSIFICATION REPORT:\n",
      "              0     1  accuracy  macro avg  weighted avg\n",
      "precision  0.57  0.63      0.61       0.60          0.61\n",
      "recall     0.48  0.71      0.61       0.60          0.61\n",
      "f1-score   0.52  0.67      0.61       0.60          0.61\n",
      "support   50.00 63.00      0.61     113.00        113.00\n",
      "\n",
      "\n",
      "TESTING RESULTS: \n",
      "===============================\n",
      "ACCURACY SCORE:0.4615\n",
      "CONFUSION MATRIX:\n",
      "[[2 5]\n",
      " [2 4]]\n",
      "F1-score:  0.5333\n",
      "Best Score:  0.6379\n",
      "Test ROC AUC: 0.7143 \n",
      "\n",
      "Best Parameters:  {'penalty': 'l2', 'learning_rate': 'adaptive', 'eta0': 100, 'class_weight': {1: 0.5, 0: 0.5}, 'alpha': 0.1}\n",
      "CLASSIFICATION REPORT:\n",
      "             0    1  accuracy  macro avg  weighted avg\n",
      "precision 0.50 0.44      0.46       0.47          0.47\n",
      "recall    0.29 0.67      0.46       0.48          0.46\n",
      "f1-score  0.36 0.53      0.46       0.45          0.44\n",
      "support   7.00 6.00      0.46      13.00         13.00\n"
     ]
    },
    {
     "data": {
      "image/png": "[encoded data removed]",
      "text/plain": [
       "<Figure size 432x288 with 1 Axes>"
      ]
     },
     "metadata": {
      "needs_background": "light"
     },
     "output_type": "display_data"
    }
   ],
   "source": [
    "penalty = ['l1', 'l2', 'elasticnet'] \n",
    "\n",
    "alpha = [0.0001, 0.001, 0.01, 0.1, 1, 10, 100, 1000] \n",
    "\n",
    "learning_rate = ['constant', 'optimal', 'invscaling', 'adaptive'] \n",
    "\n",
    "class_weight = [{1:0.5, 0:0.5}, {1:0.4, 0:0.6}, {1:0.6, 0:0.4}, {1:0.7, 0:0.3}] \n",
    "\n",
    "eta0 = [1, 10, 100] \n",
    "\n",
    "sgd_params = dict(penalty=penalty, alpha=alpha, learning_rate=learning_rate, class_weight=class_weight, \n",
    "eta0=eta0) \n",
    "\n",
    "sgd = SGDClassifier(loss='log')\n",
    "sgd_rcv = RandomizedSearchCV(sgd,sgd_params,cv=10, n_jobs=-1, scoring = 'roc_auc',random_state = 42)\n",
    "sgd_rcv.fit(X_train, y_train)\n",
    "evaluate(sgd_rcv, X_train, X_test, y_train, y_test)"
   ]
  },
  {
   "cell_type": "code",
   "execution_count": 129,
   "metadata": {},
   "outputs": [
    {
     "data": {
      "text/plain": [
       "dict_keys(['alpha', 'average', 'class_weight', 'early_stopping', 'epsilon', 'eta0', 'fit_intercept', 'l1_ratio', 'learning_rate', 'loss', 'max_iter', 'n_iter_no_change', 'n_jobs', 'penalty', 'power_t', 'random_state', 'shuffle', 'tol', 'validation_fraction', 'verbose', 'warm_start'])"
      ]
     },
     "execution_count": 129,
     "metadata": {},
     "output_type": "execute_result"
    }
   ],
   "source": [
    "sgd.get_params().keys()"
   ]
  },
  {
   "cell_type": "markdown",
   "metadata": {},
   "source": [
    "### KNN Classifier"
   ]
  },
  {
   "cell_type": "code",
   "execution_count": 29,
   "metadata": {},
   "outputs": [
    {
     "data": {
      "text/plain": [
       "dict_keys(['algorithm', 'leaf_size', 'metric', 'metric_params', 'n_jobs', 'n_neighbors', 'p', 'weights'])"
      ]
     },
     "execution_count": 29,
     "metadata": {},
     "output_type": "execute_result"
    }
   ],
   "source": [
    "knn=KNeighborsClassifier(n_neighbors=1)\n",
    "knn.get_params().keys()"
   ]
  },
  {
   "cell_type": "code",
   "execution_count": 30,
   "metadata": {},
   "outputs": [
    {
     "name": "stdout",
     "output_type": "stream",
     "text": [
      "TRAINIG RESULTS: \n",
      "===============================\n",
      "ACCURACY SCORE:0.9469\n",
      "CONFUSION MATRIX:\n",
      "[[48  2]\n",
      " [ 4 59]]\n",
      "CLASSIFICATION REPORT:\n",
      "              0     1  accuracy  macro avg  weighted avg\n",
      "precision  0.92  0.97      0.95       0.95          0.95\n",
      "recall     0.96  0.94      0.95       0.95          0.95\n",
      "f1-score   0.94  0.95      0.95       0.95          0.95\n",
      "support   50.00 63.00      0.95     113.00        113.00\n",
      "\n",
      "\n",
      "TESTING RESULTS: \n",
      "===============================\n",
      "ACCURACY SCORE:0.6923\n",
      "CONFUSION MATRIX:\n",
      "[[4 3]\n",
      " [1 5]]\n",
      "F1-score:  0.7143\n",
      "Best Score:  0.6\n",
      "Test ROC AUC: 0.7262 \n",
      "\n",
      "Best Parameters:  {'weights': 'distance', 'n_neighbors': 10, 'n_jobs': -1, 'leaf_size': 5, 'algorithm': 'kd_tree'}\n",
      "CLASSIFICATION REPORT:\n",
      "             0    1  accuracy  macro avg  weighted avg\n",
      "precision 0.80 0.62      0.69       0.71          0.72\n",
      "recall    0.57 0.83      0.69       0.70          0.69\n",
      "f1-score  0.67 0.71      0.69       0.69          0.69\n",
      "support   7.00 6.00      0.69      13.00         13.00\n"
     ]
    },
    {
     "data": {
      "image/png": "[encoded data removed]",
      "text/plain": [
       "<Figure size 432x288 with 1 Axes>"
      ]
     },
     "metadata": {
      "needs_background": "light"
     },
     "output_type": "display_data"
    }
   ],
   "source": [
    "knn_params = {'n_neighbors':[5,6,7,8,9,10],\n",
    "          'leaf_size':[1,2,3,5],\n",
    "          'weights':['uniform', 'distance'],\n",
    "          'algorithm':['auto', 'ball_tree','kd_tree','brute'],\n",
    "          'n_jobs':[-1]}\n",
    "knn_rcv = RandomizedSearchCV(knn,knn_params,cv=10, n_jobs=-1, scoring = 'roc_auc',random_state = 42)\n",
    "knn_rcv.fit(X_train, y_train)\n",
    "evaluate(knn_rcv, X_train, X_test, y_train, y_test)"
   ]
  },
  {
   "cell_type": "markdown",
   "metadata": {},
   "source": [
    "### Recursive Feature Elimination\n",
    "\n"
   ]
  },
  {
   "cell_type": "code",
   "execution_count": 31,
   "metadata": {},
   "outputs": [],
   "source": [
    "# feature extraction, Random Forest\n",
    "\n",
    "rfe = RFE(rf, 5)\n",
    "fit = rfe.fit(X_train, y_train)\n"
   ]
  },
  {
   "cell_type": "code",
   "execution_count": 32,
   "metadata": {},
   "outputs": [
    {
     "data": {
      "text/html": [
       "<div>\n",
       "<style scoped>\n",
       "    .dataframe tbody tr th:only-of-type {\n",
       "        vertical-align: middle;\n",
       "    }\n",
       "\n",
       "    .dataframe tbody tr th {\n",
       "        vertical-align: top;\n",
       "    }\n",
       "\n",
       "    .dataframe thead th {\n",
       "        text-align: right;\n",
       "    }\n",
       "</style>\n",
       "<table border=\"1\" class=\"dataframe\">\n",
       "  <thead>\n",
       "    <tr style=\"text-align: right;\">\n",
       "      <th></th>\n",
       "      <th>Feature</th>\n",
       "      <th>Ranking</th>\n",
       "    </tr>\n",
       "  </thead>\n",
       "  <tbody>\n",
       "    <tr>\n",
       "      <th>0</th>\n",
       "      <td>on_time_delivery</td>\n",
       "      <td>1</td>\n",
       "    </tr>\n",
       "    <tr>\n",
       "      <th>1</th>\n",
       "      <td>contents_of_order</td>\n",
       "      <td>1</td>\n",
       "    </tr>\n",
       "    <tr>\n",
       "      <th>2</th>\n",
       "      <td>ordered_everything</td>\n",
       "      <td>1</td>\n",
       "    </tr>\n",
       "    <tr>\n",
       "      <th>3</th>\n",
       "      <td>good_price_paid</td>\n",
       "      <td>1</td>\n",
       "    </tr>\n",
       "    <tr>\n",
       "      <th>4</th>\n",
       "      <td>courier_satisfaction</td>\n",
       "      <td>1</td>\n",
       "    </tr>\n",
       "    <tr>\n",
       "      <th>5</th>\n",
       "      <td>easy_ordering_app</td>\n",
       "      <td>2</td>\n",
       "    </tr>\n",
       "  </tbody>\n",
       "</table>\n",
       "</div>"
      ],
      "text/plain": [
       "                Feature  Ranking\n",
       "0      on_time_delivery        1\n",
       "1     contents_of_order        1\n",
       "2    ordered_everything        1\n",
       "3       good_price_paid        1\n",
       "4  courier_satisfaction        1\n",
       "5     easy_ordering_app        2"
      ]
     },
     "execution_count": 32,
     "metadata": {},
     "output_type": "execute_result"
    }
   ],
   "source": [
    "#the best features according to RFE have a ranking of 1, so we'll create a second model with those features.\n",
    "\n",
    "selected_features = pd.DataFrame({'Feature':list(X.columns),'Ranking':fit.ranking_})\n",
    "selected_features.sort_values(by='Ranking')"
   ]
  },
  {
   "cell_type": "markdown",
   "metadata": {},
   "source": [
    "### Modeling after RFE"
   ]
  },
  {
   "cell_type": "code",
   "execution_count": 33,
   "metadata": {},
   "outputs": [],
   "source": [
    "# drop the 'easy_ordering_app' feature from train and test set\n",
    "X_train_rfe = X_train.drop(columns=['easy_ordering_app'])\n",
    "X_test_rfe = X_test.drop(columns=['easy_ordering_app'])"
   ]
  },
  {
   "cell_type": "markdown",
   "metadata": {},
   "source": [
    "__Random Forest__"
   ]
  },
  {
   "cell_type": "code",
   "execution_count": 34,
   "metadata": {
    "scrolled": true
   },
   "outputs": [
    {
     "name": "stdout",
     "output_type": "stream",
     "text": [
      "TRAINIG RESULTS: \n",
      "===============================\n",
      "ACCURACY SCORE:0.8142\n",
      "CONFUSION MATRIX:\n",
      "[[35 15]\n",
      " [ 6 57]]\n",
      "CLASSIFICATION REPORT:\n",
      "              0     1  accuracy  macro avg  weighted avg\n",
      "precision  0.85  0.79      0.81       0.82          0.82\n",
      "recall     0.70  0.90      0.81       0.80          0.81\n",
      "f1-score   0.77  0.84      0.81       0.81          0.81\n",
      "support   50.00 63.00      0.81     113.00        113.00\n",
      "\n",
      "\n",
      "TESTING RESULTS: \n",
      "===============================\n",
      "ACCURACY SCORE:0.6154\n",
      "CONFUSION MATRIX:\n",
      "[[4 3]\n",
      " [2 4]]\n",
      "F1-score:  0.6154\n",
      "Best Score:  0.6483\n",
      "Test ROC AUC: 0.7381 \n",
      "\n",
      "Best Parameters:  {'n_estimators': 1000, 'min_samples_split': 4, 'max_features': 'log2', 'max_depth': 5, 'criterion': 'entropy'}\n",
      "CLASSIFICATION REPORT:\n",
      "             0    1  accuracy  macro avg  weighted avg\n",
      "precision 0.67 0.57      0.62       0.62          0.62\n",
      "recall    0.57 0.67      0.62       0.62          0.62\n",
      "f1-score  0.62 0.62      0.62       0.62          0.62\n",
      "support   7.00 6.00      0.62      13.00         13.00\n"
     ]
    },
    {
     "data": {
      "image/png": "[encoded data removed]",
      "text/plain": [
       "<Figure size 432x288 with 1 Axes>"
      ]
     },
     "metadata": {
      "needs_background": "light"
     },
     "output_type": "display_data"
    }
   ],
   "source": [
    "rf_rcv.fit(X_train_rfe, y_train)\n",
    "evaluate(rf_rcv, X_train_rfe, X_test_rfe, y_train, y_test)"
   ]
  },
  {
   "cell_type": "markdown",
   "metadata": {},
   "source": [
    "__Logistic Regression__"
   ]
  },
  {
   "cell_type": "code",
   "execution_count": 35,
   "metadata": {},
   "outputs": [
    {
     "name": "stdout",
     "output_type": "stream",
     "text": [
      "TRAINIG RESULTS: \n",
      "===============================\n",
      "ACCURACY SCORE:0.5929\n",
      "CONFUSION MATRIX:\n",
      "[[22 28]\n",
      " [18 45]]\n",
      "CLASSIFICATION REPORT:\n",
      "              0     1  accuracy  macro avg  weighted avg\n",
      "precision  0.55  0.62      0.59       0.58          0.59\n",
      "recall     0.44  0.71      0.59       0.58          0.59\n",
      "f1-score   0.49  0.66      0.59       0.58          0.59\n",
      "support   50.00 63.00      0.59     113.00        113.00\n",
      "\n",
      "\n",
      "TESTING RESULTS: \n",
      "===============================\n",
      "ACCURACY SCORE:0.4615\n",
      "CONFUSION MATRIX:\n",
      "[[2 5]\n",
      " [2 4]]\n",
      "F1-score:  0.5333\n",
      "Best Score:  0.635\n",
      "Test ROC AUC: 0.6905 \n",
      "\n",
      "Best Parameters:  {'penalty': 'l2', 'C': 18.5}\n",
      "CLASSIFICATION REPORT:\n",
      "             0    1  accuracy  macro avg  weighted avg\n",
      "precision 0.50 0.44      0.46       0.47          0.47\n",
      "recall    0.29 0.67      0.46       0.48          0.46\n",
      "f1-score  0.36 0.53      0.46       0.45          0.44\n",
      "support   7.00 6.00      0.46      13.00         13.00\n"
     ]
    },
    {
     "data": {
      "image/png": "[encoded data removed]",
      "text/plain": [
       "<Figure size 432x288 with 1 Axes>"
      ]
     },
     "metadata": {
      "needs_background": "light"
     },
     "output_type": "display_data"
    }
   ],
   "source": [
    "log_rcv.fit(X_train_rfe, y_train)\n",
    "evaluate(log_rcv, X_train_rfe, X_test_rfe, y_train, y_test)"
   ]
  },
  {
   "cell_type": "markdown",
   "metadata": {},
   "source": [
    "__XGBoost__"
   ]
  },
  {
   "cell_type": "code",
   "execution_count": 36,
   "metadata": {},
   "outputs": [
    {
     "name": "stdout",
     "output_type": "stream",
     "text": [
      "[14:56:48] WARNING: /Users/travis/build/dmlc/xgboost/src/learner.cc:480: \n",
      "Parameters: { silent } might not be used.\n",
      "\n",
      "  This may not be accurate due to some parameters are only used in language bindings but\n",
      "  passed down to XGBoost core.  Or some parameters are not used but slip through this\n",
      "  verification. Please open an issue if you find above cases.\n",
      "\n",
      "\n",
      "TRAINIG RESULTS: \n",
      "===============================\n",
      "ACCURACY SCORE:0.8230\n",
      "CONFUSION MATRIX:\n",
      "[[38 12]\n",
      " [ 8 55]]\n",
      "CLASSIFICATION REPORT:\n",
      "              0     1  accuracy  macro avg  weighted avg\n",
      "precision  0.83  0.82      0.82       0.82          0.82\n",
      "recall     0.76  0.87      0.82       0.82          0.82\n",
      "f1-score   0.79  0.85      0.82       0.82          0.82\n",
      "support   50.00 63.00      0.82     113.00        113.00\n",
      "\n",
      "\n",
      "TESTING RESULTS: \n",
      "===============================\n",
      "ACCURACY SCORE:0.6154\n",
      "CONFUSION MATRIX:\n",
      "[[4 3]\n",
      " [2 4]]\n",
      "F1-score:  0.6154\n",
      "Best Score:  0.6069\n",
      "Test ROC AUC: 0.7143 \n",
      "\n",
      "Best Parameters:  {'subsample': 0.895, 'silent': 1, 'seed': 27, 'objective': 'binary:logistic', 'nthread': 10, 'n_estimators': 1000, 'min_child_weight': 1, 'max_depth': 2, 'learning_rate': 0.05, 'colsample_bytree': 0.58}\n",
      "CLASSIFICATION REPORT:\n",
      "             0    1  accuracy  macro avg  weighted avg\n",
      "precision 0.67 0.57      0.62       0.62          0.62\n",
      "recall    0.57 0.67      0.62       0.62          0.62\n",
      "f1-score  0.62 0.62      0.62       0.62          0.62\n",
      "support   7.00 6.00      0.62      13.00         13.00\n"
     ]
    },
    {
     "data": {
      "image/png": "[encoded data removed]",
      "text/plain": [
       "<Figure size 432x288 with 1 Axes>"
      ]
     },
     "metadata": {
      "needs_background": "light"
     },
     "output_type": "display_data"
    }
   ],
   "source": [
    "xgb_rcv.fit(X_train_rfe, y_train)\n",
    "evaluate(xgb_rcv, X_train_rfe, X_test_rfe, y_train, y_test)"
   ]
  },
  {
   "cell_type": "markdown",
   "metadata": {},
   "source": [
    "__LGBM Classifier__"
   ]
  },
  {
   "cell_type": "code",
   "execution_count": 43,
   "metadata": {},
   "outputs": [
    {
     "name": "stdout",
     "output_type": "stream",
     "text": [
      "TRAINIG RESULTS: \n",
      "===============================\n",
      "ACCURACY SCORE:0.7080\n",
      "CONFUSION MATRIX:\n",
      "[[31 19]\n",
      " [14 49]]\n",
      "CLASSIFICATION REPORT:\n",
      "              0     1  accuracy  macro avg  weighted avg\n",
      "precision  0.69  0.72      0.71       0.70          0.71\n",
      "recall     0.62  0.78      0.71       0.70          0.71\n",
      "f1-score   0.65  0.75      0.71       0.70          0.71\n",
      "support   50.00 63.00      0.71     113.00        113.00\n",
      "\n",
      "\n",
      "TESTING RESULTS: \n",
      "===============================\n",
      "ACCURACY SCORE:0.8462\n",
      "CONFUSION MATRIX:\n",
      "[[6 1]\n",
      " [1 5]]\n",
      "F1-score:  0.8333\n",
      "Best Score:  0.5929\n",
      "Test ROC AUC: 0.8333 \n",
      "\n",
      "Best Parameters:  {'num_leaves': 300, 'min_child_weight': 0.2}\n",
      "CLASSIFICATION REPORT:\n",
      "             0    1  accuracy  macro avg  weighted avg\n",
      "precision 0.86 0.83      0.85       0.85          0.85\n",
      "recall    0.86 0.83      0.85       0.85          0.85\n",
      "f1-score  0.86 0.83      0.85       0.85          0.85\n",
      "support   7.00 6.00      0.85      13.00         13.00\n"
     ]
    },
    {
     "data": {
      "image/png": "[encoded data removed]",
      "text/plain": [
       "<Figure size 432x288 with 1 Axes>"
      ]
     },
     "metadata": {
      "needs_background": "light"
     },
     "output_type": "display_data"
    }
   ],
   "source": [
    "lgbm_rcv.fit(X_train_rfe, y_train)\n",
    "evaluate(lgbm_rcv, X_train_rfe, X_test_rfe, y_train, y_test)"
   ]
  },
  {
   "cell_type": "markdown",
   "metadata": {},
   "source": [
    "__SGD Classifier__"
   ]
  },
  {
   "cell_type": "code",
   "execution_count": 38,
   "metadata": {},
   "outputs": [
    {
     "name": "stdout",
     "output_type": "stream",
     "text": [
      "TRAINIG RESULTS: \n",
      "===============================\n",
      "ACCURACY SCORE:0.5841\n",
      "CONFUSION MATRIX:\n",
      "[[23 27]\n",
      " [20 43]]\n",
      "CLASSIFICATION REPORT:\n",
      "              0     1  accuracy  macro avg  weighted avg\n",
      "precision  0.53  0.61      0.58       0.57          0.58\n",
      "recall     0.46  0.68      0.58       0.57          0.58\n",
      "f1-score   0.49  0.65      0.58       0.57          0.58\n",
      "support   50.00 63.00      0.58     113.00        113.00\n",
      "\n",
      "\n",
      "TESTING RESULTS: \n",
      "===============================\n",
      "ACCURACY SCORE:0.6154\n",
      "CONFUSION MATRIX:\n",
      "[[4 3]\n",
      " [2 4]]\n",
      "F1-score:  0.6154\n",
      "Best Score:  0.6445\n",
      "Test ROC AUC: 0.7143 \n",
      "\n",
      "Best Parameters:  {'penalty': 'l2', 'learning_rate': 'adaptive', 'eta0': 100, 'class_weight': {1: 0.5, 0: 0.5}, 'alpha': 0.1}\n",
      "CLASSIFICATION REPORT:\n",
      "             0    1  accuracy  macro avg  weighted avg\n",
      "precision 0.67 0.57      0.62       0.62          0.62\n",
      "recall    0.57 0.67      0.62       0.62          0.62\n",
      "f1-score  0.62 0.62      0.62       0.62          0.62\n",
      "support   7.00 6.00      0.62      13.00         13.00\n"
     ]
    },
    {
     "data": {
      "image/png": "[encoded data removed]",
      "text/plain": [
       "<Figure size 432x288 with 1 Axes>"
      ]
     },
     "metadata": {
      "needs_background": "light"
     },
     "output_type": "display_data"
    }
   ],
   "source": [
    "sgd_rcv.fit(X_train_rfe, y_train)\n",
    "evaluate(sgd_rcv, X_train_rfe, X_test_rfe, y_train, y_test)"
   ]
  },
  {
   "cell_type": "markdown",
   "metadata": {},
   "source": [
    "__KNN Classifier__"
   ]
  },
  {
   "cell_type": "code",
   "execution_count": 39,
   "metadata": {},
   "outputs": [
    {
     "name": "stdout",
     "output_type": "stream",
     "text": [
      "{'mean_fit_time': array([0.0051358 , 0.00443106, 0.00439341, 0.00436931, 0.00421028,\n",
      "       0.00393689, 0.00508173, 0.00556633, 0.00540433, 0.00571091]), 'std_fit_time': array([0.00305742, 0.00134747, 0.00069131, 0.00077983, 0.00064047,\n",
      "       0.00071639, 0.00102784, 0.00233381, 0.0006924 , 0.00083973]), 'mean_score_time': array([0.10915236, 0.1091305 , 0.10941789, 0.11026168, 0.10988157,\n",
      "       0.10815394, 0.11097593, 0.11115205, 0.10999417, 0.11117873]), 'std_score_time': array([0.00298089, 0.00233358, 0.00224018, 0.00206682, 0.001269  ,\n",
      "       0.00209634, 0.0020214 , 0.0035284 , 0.00209381, 0.00137296]), 'param_weights': masked_array(data=['distance', 'uniform', 'uniform', 'distance',\n",
      "                   'distance', 'distance', 'distance', 'uniform',\n",
      "                   'uniform', 'distance'],\n",
      "             mask=[False, False, False, False, False, False, False, False,\n",
      "                   False, False],\n",
      "       fill_value='?',\n",
      "            dtype=object), 'param_n_neighbors': masked_array(data=[9, 7, 7, 10, 7, 9, 6, 8, 7, 9],\n",
      "             mask=[False, False, False, False, False, False, False, False,\n",
      "                   False, False],\n",
      "       fill_value='?',\n",
      "            dtype=object), 'param_n_jobs': masked_array(data=[-1, -1, -1, -1, -1, -1, -1, -1, -1, -1],\n",
      "             mask=[False, False, False, False, False, False, False, False,\n",
      "                   False, False],\n",
      "       fill_value='?',\n",
      "            dtype=object), 'param_leaf_size': masked_array(data=[5, 5, 3, 5, 2, 3, 2, 2, 2, 1],\n",
      "             mask=[False, False, False, False, False, False, False, False,\n",
      "                   False, False],\n",
      "       fill_value='?',\n",
      "            dtype=object), 'param_algorithm': masked_array(data=['auto', 'kd_tree', 'ball_tree', 'kd_tree', 'kd_tree',\n",
      "                   'brute', 'auto', 'auto', 'auto', 'auto'],\n",
      "             mask=[False, False, False, False, False, False, False, False,\n",
      "                   False, False],\n",
      "       fill_value='?',\n",
      "            dtype=object), 'params': [{'weights': 'distance', 'n_neighbors': 9, 'n_jobs': -1, 'leaf_size': 5, 'algorithm': 'auto'}, {'weights': 'uniform', 'n_neighbors': 7, 'n_jobs': -1, 'leaf_size': 5, 'algorithm': 'kd_tree'}, {'weights': 'uniform', 'n_neighbors': 7, 'n_jobs': -1, 'leaf_size': 3, 'algorithm': 'ball_tree'}, {'weights': 'distance', 'n_neighbors': 10, 'n_jobs': -1, 'leaf_size': 5, 'algorithm': 'kd_tree'}, {'weights': 'distance', 'n_neighbors': 7, 'n_jobs': -1, 'leaf_size': 2, 'algorithm': 'kd_tree'}, {'weights': 'distance', 'n_neighbors': 9, 'n_jobs': -1, 'leaf_size': 3, 'algorithm': 'brute'}, {'weights': 'distance', 'n_neighbors': 6, 'n_jobs': -1, 'leaf_size': 2, 'algorithm': 'auto'}, {'weights': 'uniform', 'n_neighbors': 8, 'n_jobs': -1, 'leaf_size': 2, 'algorithm': 'auto'}, {'weights': 'uniform', 'n_neighbors': 7, 'n_jobs': -1, 'leaf_size': 2, 'algorithm': 'auto'}, {'weights': 'distance', 'n_neighbors': 9, 'n_jobs': -1, 'leaf_size': 1, 'algorithm': 'auto'}], 'split0_test_score': array([0.71428571, 0.7       , 0.75714286, 0.8       , 0.8       ,\n",
      "       0.68571429, 0.82857143, 0.62857143, 0.7       , 0.77142857]), 'split1_test_score': array([0.54285714, 0.48571429, 0.52857143, 0.54285714, 0.6       ,\n",
      "       0.54285714, 0.6       , 0.54285714, 0.35714286, 0.54285714]), 'split2_test_score': array([0.77142857, 0.45714286, 0.48571429, 0.77142857, 0.77142857,\n",
      "       0.71428571, 0.81428571, 0.45714286, 0.42857143, 0.74285714]), 'split3_test_score': array([0.61666667, 0.48333333, 0.36666667, 0.61666667, 0.58333333,\n",
      "       0.61666667, 0.56666667, 0.51666667, 0.43333333, 0.61666667]), 'split4_test_score': array([0.6       , 0.8       , 0.75      , 0.56666667, 0.63333333,\n",
      "       0.6       , 0.63333333, 0.76666667, 0.8       , 0.63333333]), 'split5_test_score': array([0.6       , 0.73333333, 0.78333333, 0.63333333, 0.7       ,\n",
      "       0.56666667, 0.7       , 0.68333333, 0.86666667, 0.56666667]), 'split6_test_score': array([0.61666667, 0.43333333, 0.5       , 0.65      , 0.61666667,\n",
      "       0.58333333, 0.55      , 0.46666667, 0.46666667, 0.61666667]), 'split7_test_score': array([0.65      , 0.71666667, 0.6       , 0.68333333, 0.68333333,\n",
      "       0.71666667, 0.65      , 0.63333333, 0.51666667, 0.61666667]), 'split8_test_score': array([0.31666667, 0.15      , 0.48333333, 0.31666667, 0.38333333,\n",
      "       0.35      , 0.35      , 0.48333333, 0.28333333, 0.35      ]), 'split9_test_score': array([0.56666667, 0.56666667, 0.48333333, 0.56666667, 0.53333333,\n",
      "       0.56666667, 0.55      , 0.7       , 0.56666667, 0.56666667]), 'mean_test_score': array([0.59952381, 0.55261905, 0.57380952, 0.6147619 , 0.63047619,\n",
      "       0.59428571, 0.62428571, 0.58785714, 0.54190476, 0.60238095]), 'std_test_score': array([0.11408614, 0.18368689, 0.13556383, 0.12798721, 0.11406129,\n",
      "       0.10111173, 0.13209373, 0.10352873, 0.18155351, 0.10939433]), 'rank_test_score': array([ 5,  9,  8,  3,  1,  6,  2,  7, 10,  4], dtype=int32)}\n",
      "TRAINIG RESULTS: \n",
      "===============================\n",
      "ACCURACY SCORE:0.9115\n",
      "CONFUSION MATRIX:\n",
      "[[47  3]\n",
      " [ 7 56]]\n",
      "CLASSIFICATION REPORT:\n",
      "              0     1  accuracy  macro avg  weighted avg\n",
      "precision  0.87  0.95      0.91       0.91          0.91\n",
      "recall     0.94  0.89      0.91       0.91          0.91\n",
      "f1-score   0.90  0.92      0.91       0.91          0.91\n",
      "support   50.00 63.00      0.91     113.00        113.00\n",
      "\n",
      "\n",
      "TESTING RESULTS: \n",
      "===============================\n",
      "ACCURACY SCORE:0.6923\n",
      "CONFUSION MATRIX:\n",
      "[[5 2]\n",
      " [2 4]]\n",
      "F1-score:  0.6667\n",
      "Best Score:  0.6305\n",
      "Test ROC AUC: 0.6786 \n",
      "\n",
      "Best Parameters:  {'weights': 'distance', 'n_neighbors': 7, 'n_jobs': -1, 'leaf_size': 2, 'algorithm': 'kd_tree'}\n",
      "CLASSIFICATION REPORT:\n",
      "             0    1  accuracy  macro avg  weighted avg\n",
      "precision 0.71 0.67      0.69       0.69          0.69\n",
      "recall    0.71 0.67      0.69       0.69          0.69\n",
      "f1-score  0.71 0.67      0.69       0.69          0.69\n",
      "support   7.00 6.00      0.69      13.00         13.00\n"
     ]
    },
    {
     "data": {
      "image/png": "[encoded data removed]",
      "text/plain": [
       "<Figure size 432x288 with 1 Axes>"
      ]
     },
     "metadata": {
      "needs_background": "light"
     },
     "output_type": "display_data"
    }
   ],
   "source": [
    "knn_rcv.fit(X_train_rfe, y_train)\n",
    "print(knn_rcv.cv_results_)\n",
    "evaluate(knn_rcv, X_train_rfe, X_test_rfe, y_train, y_test)"
   ]
  },
  {
   "cell_type": "markdown",
   "metadata": {},
   "source": [
    "### Stacking Ensemble "
   ]
  },
  {
   "cell_type": "code",
   "execution_count": 77,
   "metadata": {},
   "outputs": [
    {
     "name": "stdout",
     "output_type": "stream",
     "text": [
      "TRAINIG RESULTS: \n",
      "===============================\n",
      "ACCURACY SCORE:0.8407\n",
      "CONFUSION MATRIX:\n",
      "[[32 18]\n",
      " [ 0 63]]\n",
      "CLASSIFICATION REPORT:\n",
      "              0     1  accuracy  macro avg  weighted avg\n",
      "precision  1.00  0.78      0.84       0.89          0.88\n",
      "recall     0.64  1.00      0.84       0.82          0.84\n",
      "f1-score   0.78  0.88      0.84       0.83          0.83\n",
      "support   50.00 63.00      0.84     113.00        113.00\n",
      "\n",
      "\n",
      "TESTING RESULTS: \n",
      "===============================\n",
      "ACCURACY SCORE:0.5385\n",
      "CONFUSION MATRIX:\n",
      "[[2 5]\n",
      " [1 5]]\n",
      "F1-score:  0.625\n",
      "Test ROC AUC: 0.7619 \n",
      "\n",
      "CLASSIFICATION REPORT:\n",
      "             0    1  accuracy  macro avg  weighted avg\n",
      "precision 0.67 0.50      0.54       0.58          0.59\n",
      "recall    0.29 0.83      0.54       0.56          0.54\n",
      "f1-score  0.40 0.62      0.54       0.51          0.50\n",
      "support   7.00 6.00      0.54      13.00         13.00\n"
     ]
    },
    {
     "data": {
      "image/png": "[encoded data removed]",
      "text/plain": [
       "<Figure size 432x288 with 1 Axes>"
      ]
     },
     "metadata": {
      "needs_background": "light"
     },
     "output_type": "display_data"
    }
   ],
   "source": [
    "estimators = [('rf', rf_rcv),('lgbm', lgbm_rcv),('knn', knn_rcv)]\n",
    "clf_stack = StackingClassifier(estimators=estimators, final_estimator=LogisticRegression())\n",
    "\n",
    "clf_stack.fit(X_train_rfe, y_train)\n",
    "evaluate_stack(clf_stack, X_train_rfe, X_test_rfe, y_train, y_test)"
   ]
  },
  {
   "cell_type": "code",
   "execution_count": 45,
   "metadata": {},
   "outputs": [],
   "source": [
    "def evaluate_stack(model, X_train, X_test, y_train, y_test):\n",
    "    y_test_pred = model.predict(X_test)\n",
    "    y_train_pred = model.predict(X_train)\n",
    "    y_test_pred_proba = model.predict_proba(X_test)[:,1]\n",
    "    \n",
    "    f1 = f1_score(y_test, y_test_pred)\n",
    "    cm = confusion_matrix(y_test, y_test_pred)\n",
    "    roc= roc_auc_score(y_test, y_test_pred_proba)\n",
    "\n",
    "    print(\"TRAINIG RESULTS: \\n===============================\")\n",
    "    print(f\"ACCURACY SCORE:{accuracy_score(y_train, y_train_pred):.4f}\")\n",
    "    print(f\"CONFUSION MATRIX:\\n{confusion_matrix(y_train, y_train_pred)}\")\n",
    "    clf_report = pd.DataFrame(classification_report(y_train, y_train_pred, output_dict=True))\n",
    "    print(f\"CLASSIFICATION REPORT:\\n{clf_report}\")\n",
    "    print()\n",
    "    print()\n",
    "\n",
    "    print(\"TESTING RESULTS: \\n===============================\")\n",
    "    print(f\"ACCURACY SCORE:{accuracy_score(y_test, y_test_pred):.4f}\")\n",
    "    print(f\"CONFUSION MATRIX:\\n{confusion_matrix(y_test, y_test_pred)}\")\n",
    "    \n",
    "    print('F1-score: ' , round(f1,4))\n",
    "    #print(\"Best Score: \" , round(model.best_score_,4))\n",
    "    print(\"Test ROC AUC:\", round(roc,4), '\\n')\n",
    "    #print(\"Best Parameters: \" , model.best_params_)\n",
    "    clf_report = pd.DataFrame(classification_report(y_test, y_test_pred, output_dict=True))\n",
    "    print(f\"CLASSIFICATION REPORT:\\n{clf_report}\")\n",
    "    \n",
    "    \n",
    "    fpr, tpr, thresholds = roc_curve(y_test, y_test_pred_proba)\n",
    "    plt.plot([0, 1], [0, 1], 'k--')\n",
    "    plt.plot(fpr,tpr,label= 'f\"{model}\" ')\n",
    "    plt.xlabel('False Positive Rate')\n",
    "    plt.ylabel('True Positive Rate')\n",
    "    plt.title('ROC Curve')\n",
    "    plt.show()"
   ]
  },
  {
   "cell_type": "markdown",
   "metadata": {},
   "source": [
    "### HyperOpt: Hyperparameter Tuning "
   ]
  },
  {
   "cell_type": "code",
   "execution_count": 75,
   "metadata": {},
   "outputs": [],
   "source": [
    "from hpsklearn import HyperoptEstimator\n",
    "from hpsklearn import any_classifier\n",
    "from hpsklearn import lightgbm\n",
    "from hpsklearn import sgd\n",
    "from hpsklearn import any_preprocessing\n",
    "from hyperopt import tpe"
   ]
  },
  {
   "cell_type": "code",
   "execution_count": 76,
   "metadata": {},
   "outputs": [
    {
     "name": "stdout",
     "output_type": "stream",
     "text": [
      "100%|██████████| 1/1 [00:00<00:00,  4.44trial/s, best loss: 0.26086956521739135]\n",
      "100%|██████████| 2/2 [00:00<00:00, 10.54trial/s, best loss: 0.26086956521739135]\n",
      "100%|██████████| 3/3 [00:01<00:00,  1.03s/trial, best loss: 0.26086956521739135]\n",
      "100%|██████████| 4/4 [00:00<00:00,  5.23trial/s, best loss: 0.26086956521739135]\n",
      "100%|██████████| 5/5 [00:00<00:00,  3.33trial/s, best loss: 0.26086956521739135]\n",
      "100%|██████████| 6/6 [00:00<00:00,  6.60trial/s, best loss: 0.26086956521739135]\n",
      "100%|██████████| 7/7 [00:00<00:00, 10.50trial/s, best loss: 0.26086956521739135]\n",
      "100%|██████████| 8/8 [00:02<00:00,  2.37s/trial, best loss: 0.26086956521739135]\n",
      "100%|██████████| 9/9 [00:00<00:00,  5.66trial/s, best loss: 0.26086956521739135]\n",
      "100%|██████████| 10/10 [00:00<00:00,  4.57trial/s, best loss: 0.26086956521739135]\n",
      "100%|██████████| 11/11 [00:00<00:00,  1.91trial/s, best loss: 0.26086956521739135]\n",
      "100%|██████████| 12/12 [00:01<00:00,  1.37s/trial, best loss: 0.26086956521739135]\n",
      "100%|██████████| 13/13 [00:00<00:00, 10.36trial/s, best loss: 0.26086956521739135]\n",
      "100%|██████████| 14/14 [00:00<00:00,  3.53trial/s, best loss: 0.26086956521739135]\n",
      "100%|██████████| 15/15 [00:00<00:00,  6.37trial/s, best loss: 0.26086956521739135]\n",
      "100%|██████████| 16/16 [00:00<00:00,  4.93trial/s, best loss: 0.26086956521739135]\n",
      "100%|██████████| 17/17 [00:00<00:00, 10.16trial/s, best loss: 0.26086956521739135]\n",
      "100%|██████████| 18/18 [00:00<00:00,  5.45trial/s, best loss: 0.26086956521739135]\n",
      "100%|██████████| 19/19 [00:00<00:00, 14.27trial/s, best loss: 0.26086956521739135]\n",
      "100%|██████████| 20/20 [00:01<00:00,  1.24s/trial, best loss: 0.26086956521739135]\n",
      "100%|██████████| 21/21 [00:00<00:00,  6.30trial/s, best loss: 0.26086956521739135]\n",
      "100%|██████████| 22/22 [00:00<00:00,  3.87trial/s, best loss: 0.26086956521739135]\n",
      "100%|██████████| 23/23 [00:00<00:00,  6.41trial/s, best loss: 0.26086956521739135]\n",
      "100%|██████████| 24/24 [00:00<00:00,  3.72trial/s, best loss: 0.26086956521739135]\n",
      "100%|██████████| 25/25 [00:00<00:00,  2.40trial/s, best loss: 0.26086956521739135]\n",
      "100%|██████████| 26/26 [00:00<00:00,  6.53trial/s, best loss: 0.26086956521739135]\n",
      "100%|██████████| 27/27 [00:00<00:00,  2.14trial/s, best loss: 0.26086956521739135]\n",
      "100%|██████████| 28/28 [00:00<00:00,  3.89trial/s, best loss: 0.26086956521739135]\n",
      "100%|██████████| 29/29 [00:00<00:00,  2.87trial/s, best loss: 0.26086956521739135]\n",
      "100%|██████████| 30/30 [00:00<00:00,  1.66trial/s, best loss: 0.26086956521739135]\n",
      "100%|██████████| 31/31 [00:00<00:00,  1.44trial/s, best loss: 0.26086956521739135]\n",
      "100%|██████████| 32/32 [00:01<00:00,  1.91s/trial, best loss: 0.26086956521739135]\n",
      "100%|██████████| 33/33 [00:00<00:00,  6.99trial/s, best loss: 0.26086956521739135]\n",
      "100%|██████████| 34/34 [00:00<00:00,  5.48trial/s, best loss: 0.26086956521739135]\n",
      "100%|██████████| 35/35 [00:01<00:00,  1.38s/trial, best loss: 0.26086956521739135]\n",
      "100%|██████████| 36/36 [00:00<00:00,  2.10trial/s, best loss: 0.26086956521739135]\n",
      "100%|██████████| 37/37 [00:00<00:00,  2.07trial/s, best loss: 0.26086956521739135]\n",
      "100%|██████████| 38/38 [00:00<00:00,  3.71trial/s, best loss: 0.26086956521739135]\n",
      "100%|██████████| 39/39 [00:00<00:00,  2.71trial/s, best loss: 0.26086956521739135]\n",
      "100%|██████████| 40/40 [00:00<00:00,  1.90trial/s, best loss: 0.26086956521739135]\n",
      "100%|██████████| 41/41 [00:00<00:00,  3.74trial/s, best loss: 0.26086956521739135]\n",
      "100%|██████████| 42/42 [00:00<00:00,  3.53trial/s, best loss: 0.26086956521739135]\n",
      "100%|██████████| 43/43 [00:00<00:00,  6.02trial/s, best loss: 0.26086956521739135]\n",
      "100%|██████████| 44/44 [00:00<00:00,  3.51trial/s, best loss: 0.26086956521739135]\n",
      "100%|██████████| 45/45 [00:00<00:00,  6.95trial/s, best loss: 0.26086956521739135]\n",
      "100%|██████████| 46/46 [00:00<00:00,  1.78trial/s, best loss: 0.26086956521739135]\n",
      "100%|██████████| 47/47 [00:00<00:00,  1.71trial/s, best loss: 0.26086956521739135]\n",
      "100%|██████████| 48/48 [00:00<00:00,  6.72trial/s, best loss: 0.26086956521739135]\n",
      "100%|██████████| 49/49 [00:00<00:00,  2.86trial/s, best loss: 0.26086956521739135]\n",
      "100%|██████████| 50/50 [00:00<00:00,  5.90trial/s, best loss: 0.26086956521739135]\n",
      "Accuracy: 0.692\n",
      "{'learner': AdaBoostClassifier(learning_rate=2.375785434762205e-05, n_estimators=63,\n",
      "                   random_state=2), 'preprocs': (MinMaxScaler(feature_range=(0.0, 1.0)),), 'ex_preprocs': ()}\n"
     ]
    }
   ],
   "source": [
    "# define search\n",
    "model = HyperoptEstimator(classifier=any_classifier('cla'), preprocessing=any_preprocessing('pre'), algo=tpe.suggest, max_evals=50, trial_timeout=30)\n",
    "\n",
    "# perform the search\n",
    "model.fit(X_train, y_train)\n",
    "\n",
    "# summarize performance\n",
    "acc = model.score(X_test, y_test)\n",
    "print(\"Accuracy: %.3f\" % acc)\n",
    "\n",
    "# summarize the best model\n",
    "print(model.best_model())"
   ]
  },
  {
   "cell_type": "markdown",
   "metadata": {},
   "source": [
    "### TPOT ML Learning"
   ]
  },
  {
   "cell_type": "code",
   "execution_count": 80,
   "metadata": {},
   "outputs": [
    {
     "name": "stdout",
     "output_type": "stream",
     "text": [
      "32 operators have been imported by TPOT.\n"
     ]
    },
    {
     "data": {
      "application/vnd.jupyter.widget-view+json": {
       "model_id": "",
       "version_major": 2,
       "version_minor": 0
      },
      "text/plain": [
       "Optimization Progress:   0%|          | 0/1100 [00:00<?, ?pipeline/s]"
      ]
     },
     "metadata": {},
     "output_type": "display_data"
    },
    {
     "name": "stdout",
     "output_type": "stream",
     "text": [
      "_pre_test decorator: _random_mutation_operator: num_test=0 Found array with 0 feature(s) (shape=(50, 0)) while a minimum of 1 is required..\n",
      "_pre_test decorator: _random_mutation_operator: num_test=0 Solver lbfgs supports only 'l2' or 'none' penalties, got l1 penalty..\n",
      "_pre_test decorator: _random_mutation_operator: num_test=0 '(slice(None, None, None), 0)' is an invalid key.\n",
      "_pre_test decorator: _random_mutation_operator: num_test=0 Found array with 0 feature(s) (shape=(50, 0)) while a minimum of 1 is required..\n",
      "_pre_test decorator: _random_mutation_operator: num_test=0 Found array with 0 feature(s) (shape=(50, 0)) while a minimum of 1 is required..\n",
      "_pre_test decorator: _random_mutation_operator: num_test=0 Solver lbfgs supports only 'l2' or 'none' penalties, got l1 penalty..\n",
      "_pre_test decorator: _random_mutation_operator: num_test=0 Solver lbfgs supports only dual=False, got dual=True.\n",
      "_pre_test decorator: _random_mutation_operator: num_test=0 Unsupported set of arguments: The combination of penalty='l2' and loss='hinge' are not supported when dual=False, Parameters: penalty='l2', loss='hinge', dual=False.\n",
      "_pre_test decorator: _random_mutation_operator: num_test=0 Unsupported set of arguments: The combination of penalty='l1' and loss='squared_hinge' are not supported when dual=True, Parameters: penalty='l1', loss='squared_hinge', dual=True.\n",
      "_pre_test decorator: _random_mutation_operator: num_test=0 Found array with 0 feature(s) (shape=(50, 0)) while a minimum of 1 is required..\n",
      "_pre_test decorator: _random_mutation_operator: num_test=0 manhattan was provided as affinity. Ward can only work with euclidean distances..\n",
      "_pre_test decorator: _random_mutation_operator: num_test=0 Unsupported set of arguments: The combination of penalty='l1' and loss='squared_hinge' are not supported when dual=True, Parameters: penalty='l1', loss='squared_hinge', dual=True.\n",
      "\n",
      "Generation 1 - Current Pareto front scores:\n",
      "\n",
      "-1\t0.6269230769230769\tXGBClassifier(input_matrix, XGBClassifier__learning_rate=0.5, XGBClassifier__max_depth=1, XGBClassifier__min_child_weight=7, XGBClassifier__n_estimators=100, XGBClassifier__n_jobs=1, XGBClassifier__subsample=0.6500000000000001, XGBClassifier__verbosity=0)\n",
      "Created new folder to save periodic pipeline: tpot_mnst1.txt\n",
      "Saving periodic pipeline from pareto front to tpot_mnst1.txt/pipeline_gen_1_idx_0_2021.08.13_11-35-08.py\n",
      "_pre_test decorator: _random_mutation_operator: num_test=0 Found array with 0 feature(s) (shape=(50, 0)) while a minimum of 1 is required..\n",
      "_pre_test decorator: _random_mutation_operator: num_test=0 Unsupported set of arguments: The combination of penalty='l1' and loss='hinge' is not supported, Parameters: penalty='l1', loss='hinge', dual=True.\n",
      "_pre_test decorator: _random_mutation_operator: num_test=1 Found array with 0 feature(s) (shape=(50, 0)) while a minimum of 1 is required..\n",
      "_pre_test decorator: _random_mutation_operator: num_test=0 Found array with 0 feature(s) (shape=(50, 0)) while a minimum of 1 is required..\n",
      "_pre_test decorator: _random_mutation_operator: num_test=0 Solver lbfgs supports only dual=False, got dual=True.\n",
      "_pre_test decorator: _random_mutation_operator: num_test=0 Unsupported set of arguments: The combination of penalty='l1' and loss='squared_hinge' are not supported when dual=True, Parameters: penalty='l1', loss='squared_hinge', dual=True.\n",
      "_pre_test decorator: _random_mutation_operator: num_test=1 Unsupported set of arguments: The combination of penalty='l1' and loss='hinge' is not supported, Parameters: penalty='l1', loss='hinge', dual=True.\n",
      "Pipeline encountered that has previously been evaluated during the optimization process. Using the score from the previous evaluation.\n",
      "\n",
      "Generation 2 - Current Pareto front scores:\n",
      "\n",
      "-1\t0.6269230769230769\tXGBClassifier(input_matrix, XGBClassifier__learning_rate=0.5, XGBClassifier__max_depth=1, XGBClassifier__min_child_weight=7, XGBClassifier__n_estimators=100, XGBClassifier__n_jobs=1, XGBClassifier__subsample=0.6500000000000001, XGBClassifier__verbosity=0)\n",
      "_pre_test decorator: _random_mutation_operator: num_test=0 Negative values in data passed to MultinomialNB (input X).\n",
      "_pre_test decorator: _random_mutation_operator: num_test=0 Negative values in data passed to MultinomialNB (input X).\n",
      "_pre_test decorator: _random_mutation_operator: num_test=0 Negative values in data passed to MultinomialNB (input X).\n",
      "_pre_test decorator: _random_mutation_operator: num_test=0 Unsupported set of arguments: The combination of penalty='l1' and loss='hinge' is not supported, Parameters: penalty='l1', loss='hinge', dual=True.\n",
      "_pre_test decorator: _random_mutation_operator: num_test=0 [11:35:43] /Users/travis/build/dmlc/xgboost/src/learner.cc:506: Check failed: mparam_.num_feature != 0 (0 vs. 0) : 0 feature is supplied.  Are you using raw Booster interface?\n",
      "Stack trace:\n",
      "  [bt] (0) 1   libxgboost.dylib                    0x000000012ed141c0 dmlc::LogMessageFatal::~LogMessageFatal() + 112\n",
      "  [bt] (1) 2   libxgboost.dylib                    0x000000012edbab29 xgboost::LearnerConfiguration::ConfigureNumFeatures() + 265\n",
      "  [bt] (2) 3   libxgboost.dylib                    0x000000012edb068d xgboost::LearnerConfiguration::Configure() + 1165\n",
      "  [bt] (3) 4   libxgboost.dylib                    0x000000012edb0c28 xgboost::LearnerImpl::UpdateOneIter(int, std::__1::shared_ptr<xgboost::DMatrix>) + 120\n",
      "  [bt] (4) 5   libxgboost.dylib                    0x000000012ed0c68d XGBoosterUpdateOneIter + 157\n",
      "  [bt] (5) 6   libffi.6.dylib                      0x0000000107583884 ffi_call_unix64 + 76\n",
      "  [bt] (6) 7   ???                                 0x00007ffee91fe3c0 0x0 + 140732809601984\n",
      "\n",
      ".\n",
      "_pre_test decorator: _random_mutation_operator: num_test=0 '(slice(None, None, None), 0)' is an invalid key.\n",
      "_pre_test decorator: _random_mutation_operator: num_test=0 Unsupported set of arguments: The combination of penalty='l1' and loss='hinge' is not supported, Parameters: penalty='l1', loss='hinge', dual=False.\n",
      "_pre_test decorator: _random_mutation_operator: num_test=0 Unsupported set of arguments: The combination of penalty='l1' and loss='hinge' is not supported, Parameters: penalty='l1', loss='hinge', dual=True.\n",
      "_pre_test decorator: _random_mutation_operator: num_test=0 Found array with 0 feature(s) (shape=(50, 0)) while a minimum of 1 is required..\n",
      "_pre_test decorator: _random_mutation_operator: num_test=0 Expected n_neighbors <= n_samples,  but n_samples = 50, n_neighbors = 80.\n",
      "_pre_test decorator: _random_mutation_operator: num_test=1 Solver lbfgs supports only 'l2' or 'none' penalties, got l1 penalty..\n",
      "\n",
      "Generation 3 - Current Pareto front scores:\n",
      "\n",
      "-1\t0.6269230769230769\tXGBClassifier(input_matrix, XGBClassifier__learning_rate=0.5, XGBClassifier__max_depth=1, XGBClassifier__min_child_weight=7, XGBClassifier__n_estimators=100, XGBClassifier__n_jobs=1, XGBClassifier__subsample=0.6500000000000001, XGBClassifier__verbosity=0)\n",
      "\n",
      "-2\t0.6539743589743591\tKNeighborsClassifier(FeatureAgglomeration(input_matrix, FeatureAgglomeration__affinity=cosine, FeatureAgglomeration__linkage=complete), KNeighborsClassifier__n_neighbors=8, KNeighborsClassifier__p=2, KNeighborsClassifier__weights=distance)\n",
      "Periodic pipeline was not saved, probably saved before...\n",
      "Saving periodic pipeline from pareto front to tpot_mnst1.txt/pipeline_gen_3_idx_1_2021.08.13_11-36-09.py\n",
      "_pre_test decorator: _random_mutation_operator: num_test=0 Found array with 0 feature(s) (shape=(50, 0)) while a minimum of 1 is required..\n",
      "_pre_test decorator: _random_mutation_operator: num_test=0 [11:36:11] /Users/travis/build/dmlc/xgboost/src/learner.cc:506: Check failed: mparam_.num_feature != 0 (0 vs. 0) : 0 feature is supplied.  Are you using raw Booster interface?\n",
      "Stack trace:\n",
      "  [bt] (0) 1   libxgboost.dylib                    0x000000012ed141c0 dmlc::LogMessageFatal::~LogMessageFatal() + 112\n",
      "  [bt] (1) 2   libxgboost.dylib                    0x000000012edbab29 xgboost::LearnerConfiguration::ConfigureNumFeatures() + 265\n",
      "  [bt] (2) 3   libxgboost.dylib                    0x000000012edb068d xgboost::LearnerConfiguration::Configure() + 1165\n",
      "  [bt] (3) 4   libxgboost.dylib                    0x000000012edb0c28 xgboost::LearnerImpl::UpdateOneIter(int, std::__1::shared_ptr<xgboost::DMatrix>) + 120\n",
      "  [bt] (4) 5   libxgboost.dylib                    0x000000012ed0c68d XGBoosterUpdateOneIter + 157\n",
      "  [bt] (5) 6   libffi.6.dylib                      0x0000000107583884 ffi_call_unix64 + 76\n",
      "  [bt] (6) 7   ???                                 0x00007ffee91fe3c0 0x0 + 140732809601984\n",
      "\n",
      ".\n"
     ]
    },
    {
     "name": "stdout",
     "output_type": "stream",
     "text": [
      "_pre_test decorator: _random_mutation_operator: num_test=0 Found array with 0 feature(s) (shape=(50, 0)) while a minimum of 1 is required..\n",
      "_pre_test decorator: _random_mutation_operator: num_test=1 Solver lbfgs supports only dual=False, got dual=True.\n",
      "_pre_test decorator: _random_mutation_operator: num_test=0 '(slice(None, None, None), 0)' is an invalid key.\n",
      "_pre_test decorator: _random_mutation_operator: num_test=0 Solver lbfgs supports only dual=False, got dual=True.\n",
      "_pre_test decorator: _random_mutation_operator: num_test=1 Solver lbfgs supports only 'l2' or 'none' penalties, got l1 penalty..\n",
      "_pre_test decorator: _random_mutation_operator: num_test=0 l1 was provided as affinity. Ward can only work with euclidean distances..\n",
      "_pre_test decorator: _random_mutation_operator: num_test=0 Solver lbfgs supports only 'l2' or 'none' penalties, got l1 penalty..\n",
      "_pre_test decorator: _random_mutation_operator: num_test=1 Solver lbfgs supports only 'l2' or 'none' penalties, got l1 penalty..\n",
      "_pre_test decorator: _random_mutation_operator: num_test=0 feature_names mismatch: ['on_time_delivery', 'contents_of_order', 'ordered_everything', 'good_price_paid', 'courier_satisfaction', 'easy_ordering_app'] ['f0', 'f1', 'f2', 'f3', 'f4', 'f5']\n",
      "expected good_price_paid, contents_of_order, easy_ordering_app, ordered_everything, courier_satisfaction, on_time_delivery in input data\n",
      "training data did not have the following fields: f4, f2, f0, f3, f1, f5.\n",
      "\n",
      "Generation 4 - Current Pareto front scores:\n",
      "\n",
      "-1\t0.6269230769230769\tXGBClassifier(input_matrix, XGBClassifier__learning_rate=0.5, XGBClassifier__max_depth=1, XGBClassifier__min_child_weight=7, XGBClassifier__n_estimators=100, XGBClassifier__n_jobs=1, XGBClassifier__subsample=0.6500000000000001, XGBClassifier__verbosity=0)\n",
      "\n",
      "-2\t0.6539743589743591\tKNeighborsClassifier(FeatureAgglomeration(input_matrix, FeatureAgglomeration__affinity=cosine, FeatureAgglomeration__linkage=complete), KNeighborsClassifier__n_neighbors=8, KNeighborsClassifier__p=2, KNeighborsClassifier__weights=distance)\n",
      "Periodic pipeline was not saved, probably saved before...\n",
      "Periodic pipeline was not saved, probably saved before...\n",
      "_pre_test decorator: _random_mutation_operator: num_test=0 Solver lbfgs supports only dual=False, got dual=True.\n",
      "_pre_test decorator: _random_mutation_operator: num_test=0 Unsupported set of arguments: The combination of penalty='l2' and loss='hinge' are not supported when dual=False, Parameters: penalty='l2', loss='hinge', dual=False.\n",
      "_pre_test decorator: _random_mutation_operator: num_test=0 cosine was provided as affinity. Ward can only work with euclidean distances..\n",
      "_pre_test decorator: _random_mutation_operator: num_test=0 Solver lbfgs supports only 'l2' or 'none' penalties, got l1 penalty..\n",
      "_pre_test decorator: _random_mutation_operator: num_test=0 Negative values in data passed to MultinomialNB (input X).\n",
      "_pre_test decorator: _random_mutation_operator: num_test=0 Solver lbfgs supports only 'l2' or 'none' penalties, got l1 penalty..\n",
      "_pre_test decorator: _random_mutation_operator: num_test=1 Solver lbfgs supports only 'l2' or 'none' penalties, got l1 penalty..\n",
      "_pre_test decorator: _random_mutation_operator: num_test=0 Found array with 0 feature(s) (shape=(50, 0)) while a minimum of 1 is required..\n",
      "_pre_test decorator: _random_mutation_operator: num_test=0 '(slice(None, None, None), 0)' is an invalid key.\n",
      "_pre_test decorator: _random_mutation_operator: num_test=0 Solver lbfgs supports only 'l2' or 'none' penalties, got l1 penalty..\n",
      "_pre_test decorator: _random_mutation_operator: num_test=0 Negative values in data passed to MultinomialNB (input X).\n",
      "Pipeline encountered that has previously been evaluated during the optimization process. Using the score from the previous evaluation.\n",
      "Pipeline encountered that has previously been evaluated during the optimization process. Using the score from the previous evaluation.\n",
      "Pipeline encountered that has previously been evaluated during the optimization process. Using the score from the previous evaluation.\n",
      "\n",
      "Generation 5 - Current Pareto front scores:\n",
      "\n",
      "-1\t0.6269230769230769\tXGBClassifier(input_matrix, XGBClassifier__learning_rate=0.5, XGBClassifier__max_depth=1, XGBClassifier__min_child_weight=7, XGBClassifier__n_estimators=100, XGBClassifier__n_jobs=1, XGBClassifier__subsample=0.6500000000000001, XGBClassifier__verbosity=0)\n",
      "\n",
      "-2\t0.6539743589743591\tKNeighborsClassifier(FeatureAgglomeration(input_matrix, FeatureAgglomeration__affinity=cosine, FeatureAgglomeration__linkage=complete), KNeighborsClassifier__n_neighbors=8, KNeighborsClassifier__p=2, KNeighborsClassifier__weights=distance)\n",
      "Periodic pipeline was not saved, probably saved before...\n",
      "Periodic pipeline was not saved, probably saved before...\n",
      "_pre_test decorator: _random_mutation_operator: num_test=0 Solver lbfgs supports only dual=False, got dual=True.\n",
      "_pre_test decorator: _random_mutation_operator: num_test=1 Solver lbfgs supports only 'l2' or 'none' penalties, got l1 penalty..\n",
      "_pre_test decorator: _random_mutation_operator: num_test=0 Found array with 0 feature(s) (shape=(50, 0)) while a minimum of 1 is required..\n",
      "_pre_test decorator: _random_mutation_operator: num_test=1 Found array with 0 feature(s) (shape=(50, 0)) while a minimum of 1 is required..\n",
      "_pre_test decorator: _mate_operator: num_test=0 Found array with 0 feature(s) (shape=(50, 0)) while a minimum of 1 is required..\n",
      "_pre_test decorator: _mate_operator: num_test=1 Found array with 0 feature(s) (shape=(50, 0)) while a minimum of 1 is required..\n",
      "_pre_test decorator: _mate_operator: num_test=2 Found array with 0 feature(s) (shape=(50, 0)) while a minimum of 1 is required..\n",
      "_pre_test decorator: _mate_operator: num_test=3 Found array with 0 feature(s) (shape=(50, 0)) while a minimum of 1 is required..\n",
      "_pre_test decorator: _mate_operator: num_test=4 Found array with 0 feature(s) (shape=(50, 0)) while a minimum of 1 is required..\n",
      "_pre_test decorator: _mate_operator: num_test=5 Found array with 0 feature(s) (shape=(50, 0)) while a minimum of 1 is required..\n",
      "_pre_test decorator: _random_mutation_operator: num_test=0 Solver lbfgs supports only 'l2' or 'none' penalties, got l1 penalty..\n",
      "_pre_test decorator: _random_mutation_operator: num_test=0 Solver lbfgs supports only 'l2' or 'none' penalties, got l1 penalty..\n",
      "_pre_test decorator: _random_mutation_operator: num_test=1 Solver lbfgs supports only dual=False, got dual=True.\n",
      "_pre_test decorator: _random_mutation_operator: num_test=2 Solver lbfgs supports only 'l2' or 'none' penalties, got l1 penalty..\n",
      "_pre_test decorator: _random_mutation_operator: num_test=0 Found array with 0 feature(s) (shape=(50, 0)) while a minimum of 1 is required..\n",
      "_pre_test decorator: _random_mutation_operator: num_test=0 Found array with 0 feature(s) (shape=(50, 0)) while a minimum of 1 is required..\n",
      "_pre_test decorator: _random_mutation_operator: num_test=0 [11:37:37] /Users/travis/build/dmlc/xgboost/src/learner.cc:506: Check failed: mparam_.num_feature != 0 (0 vs. 0) : 0 feature is supplied.  Are you using raw Booster interface?\n",
      "Stack trace:\n",
      "  [bt] (0) 1   libxgboost.dylib                    0x000000012ed141c0 dmlc::LogMessageFatal::~LogMessageFatal() + 112\n",
      "  [bt] (1) 2   libxgboost.dylib                    0x000000012edbab29 xgboost::LearnerConfiguration::ConfigureNumFeatures() + 265\n",
      "  [bt] (2) 3   libxgboost.dylib                    0x000000012edb068d xgboost::LearnerConfiguration::Configure() + 1165\n",
      "  [bt] (3) 4   libxgboost.dylib                    0x000000012edb0c28 xgboost::LearnerImpl::UpdateOneIter(int, std::__1::shared_ptr<xgboost::DMatrix>) + 120\n",
      "  [bt] (4) 5   libxgboost.dylib                    0x000000012ed0c68d XGBoosterUpdateOneIter + 157\n",
      "  [bt] (5) 6   libffi.6.dylib                      0x0000000107583884 ffi_call_unix64 + 76\n",
      "  [bt] (6) 7   ???                                 0x00007ffee91fe3c0 0x0 + 140732809601984\n",
      "\n",
      ".\n",
      "_pre_test decorator: _random_mutation_operator: num_test=0 [11:37:41] /Users/travis/build/dmlc/xgboost/src/learner.cc:506: Check failed: mparam_.num_feature != 0 (0 vs. 0) : 0 feature is supplied.  Are you using raw Booster interface?\n",
      "Stack trace:\n",
      "  [bt] (0) 1   libxgboost.dylib                    0x000000012ed141c0 dmlc::LogMessageFatal::~LogMessageFatal() + 112\n",
      "  [bt] (1) 2   libxgboost.dylib                    0x000000012edbab29 xgboost::LearnerConfiguration::ConfigureNumFeatures() + 265\n",
      "  [bt] (2) 3   libxgboost.dylib                    0x000000012edb068d xgboost::LearnerConfiguration::Configure() + 1165\n",
      "  [bt] (3) 4   libxgboost.dylib                    0x000000012edb0c28 xgboost::LearnerImpl::UpdateOneIter(int, std::__1::shared_ptr<xgboost::DMatrix>) + 120\n",
      "  [bt] (4) 5   libxgboost.dylib                    0x000000012ed0c68d XGBoosterUpdateOneIter + 157\n",
      "  [bt] (5) 6   libffi.6.dylib                      0x0000000107583884 ffi_call_unix64 + 76\n",
      "  [bt] (6) 7   ???                                 0x00007ffee91fe3c0 0x0 + 140732809601984\n",
      "\n",
      ".\n"
     ]
    },
    {
     "name": "stdout",
     "output_type": "stream",
     "text": [
      "_pre_test decorator: _random_mutation_operator: num_test=0 Found array with 0 feature(s) (shape=(50, 0)) while a minimum of 2 is required by FeatureAgglomeration..\n",
      "_pre_test decorator: _random_mutation_operator: num_test=1 Found array with 0 feature(s) (shape=(50, 0)) while a minimum of 1 is required..\n",
      "_pre_test decorator: _random_mutation_operator: num_test=0 Solver lbfgs supports only dual=False, got dual=True.\n",
      "Pipeline encountered that has previously been evaluated during the optimization process. Using the score from the previous evaluation.\n",
      "Pipeline encountered that has previously been evaluated during the optimization process. Using the score from the previous evaluation.\n",
      "\n",
      "Generation 6 - Current Pareto front scores:\n",
      "\n",
      "-1\t0.646923076923077\tXGBClassifier(input_matrix, XGBClassifier__learning_rate=0.001, XGBClassifier__max_depth=6, XGBClassifier__min_child_weight=7, XGBClassifier__n_estimators=100, XGBClassifier__n_jobs=1, XGBClassifier__subsample=0.8, XGBClassifier__verbosity=0)\n",
      "\n",
      "-2\t0.6539743589743591\tKNeighborsClassifier(FeatureAgglomeration(input_matrix, FeatureAgglomeration__affinity=cosine, FeatureAgglomeration__linkage=complete), KNeighborsClassifier__n_neighbors=8, KNeighborsClassifier__p=2, KNeighborsClassifier__weights=distance)\n",
      "\n",
      "-3\t0.663974358974359\tKNeighborsClassifier(GradientBoostingClassifier(FeatureAgglomeration(input_matrix, FeatureAgglomeration__affinity=cosine, FeatureAgglomeration__linkage=complete), GradientBoostingClassifier__learning_rate=0.01, GradientBoostingClassifier__max_depth=5, GradientBoostingClassifier__max_features=0.25, GradientBoostingClassifier__min_samples_leaf=15, GradientBoostingClassifier__min_samples_split=15, GradientBoostingClassifier__n_estimators=100, GradientBoostingClassifier__subsample=0.7500000000000001), KNeighborsClassifier__n_neighbors=8, KNeighborsClassifier__p=2, KNeighborsClassifier__weights=distance)\n",
      "\n",
      "-4\t0.6903846153846155\tRandomForestClassifier(PCA(RandomForestClassifier(PCA(input_matrix, PCA__iterated_power=7, PCA__svd_solver=randomized), RandomForestClassifier__bootstrap=False, RandomForestClassifier__criterion=gini, RandomForestClassifier__max_features=0.8, RandomForestClassifier__min_samples_leaf=5, RandomForestClassifier__min_samples_split=7, RandomForestClassifier__n_estimators=100), PCA__iterated_power=2, PCA__svd_solver=randomized), RandomForestClassifier__bootstrap=False, RandomForestClassifier__criterion=gini, RandomForestClassifier__max_features=0.9500000000000001, RandomForestClassifier__min_samples_leaf=2, RandomForestClassifier__min_samples_split=19, RandomForestClassifier__n_estimators=100)\n",
      "Saving periodic pipeline from pareto front to tpot_mnst1.txt/pipeline_gen_6_idx_0_2021.08.13_11-38-03.py\n",
      "Periodic pipeline was not saved, probably saved before...\n",
      "Saving periodic pipeline from pareto front to tpot_mnst1.txt/pipeline_gen_6_idx_2_2021.08.13_11-38-03.py\n",
      "Saving periodic pipeline from pareto front to tpot_mnst1.txt/pipeline_gen_6_idx_3_2021.08.13_11-38-03.py\n",
      "_pre_test decorator: _random_mutation_operator: num_test=0 [11:38:07] /Users/travis/build/dmlc/xgboost/src/learner.cc:506: Check failed: mparam_.num_feature != 0 (0 vs. 0) : 0 feature is supplied.  Are you using raw Booster interface?\n",
      "Stack trace:\n",
      "  [bt] (0) 1   libxgboost.dylib                    0x000000012ed141c0 dmlc::LogMessageFatal::~LogMessageFatal() + 112\n",
      "  [bt] (1) 2   libxgboost.dylib                    0x000000012edbab29 xgboost::LearnerConfiguration::ConfigureNumFeatures() + 265\n",
      "  [bt] (2) 3   libxgboost.dylib                    0x000000012edb068d xgboost::LearnerConfiguration::Configure() + 1165\n",
      "  [bt] (3) 4   libxgboost.dylib                    0x000000012edb0c28 xgboost::LearnerImpl::UpdateOneIter(int, std::__1::shared_ptr<xgboost::DMatrix>) + 120\n",
      "  [bt] (4) 5   libxgboost.dylib                    0x000000012ed0c68d XGBoosterUpdateOneIter + 157\n",
      "  [bt] (5) 6   libffi.6.dylib                      0x0000000107583884 ffi_call_unix64 + 76\n",
      "  [bt] (6) 7   ???                                 0x00007ffee91fe3c0 0x0 + 140732809601984\n",
      "\n",
      ".\n",
      "_pre_test decorator: _random_mutation_operator: num_test=0 feature_names mismatch: ['on_time_delivery', 'contents_of_order', 'ordered_everything', 'good_price_paid', 'courier_satisfaction', 'easy_ordering_app'] ['f0', 'f1', 'f2', 'f3', 'f4', 'f5']\n",
      "expected good_price_paid, contents_of_order, easy_ordering_app, ordered_everything, courier_satisfaction, on_time_delivery in input data\n",
      "training data did not have the following fields: f4, f2, f0, f3, f1, f5.\n",
      "_pre_test decorator: _random_mutation_operator: num_test=0 Unsupported set of arguments: The combination of penalty='l1' and loss='hinge' is not supported, Parameters: penalty='l1', loss='hinge', dual=False.\n",
      "_pre_test decorator: _random_mutation_operator: num_test=0 Expected n_neighbors <= n_samples,  but n_samples = 50, n_neighbors = 65.\n",
      "_pre_test decorator: _random_mutation_operator: num_test=0 Unsupported set of arguments: The combination of penalty='l2' and loss='hinge' are not supported when dual=False, Parameters: penalty='l2', loss='hinge', dual=False.\n",
      "_pre_test decorator: _random_mutation_operator: num_test=0 Solver lbfgs supports only dual=False, got dual=True.\n",
      "_pre_test decorator: _random_mutation_operator: num_test=0 feature_names mismatch: ['on_time_delivery', 'contents_of_order', 'ordered_everything', 'good_price_paid', 'courier_satisfaction', 'easy_ordering_app'] ['f0', 'f1', 'f2', 'f3', 'f4', 'f5']\n",
      "expected good_price_paid, contents_of_order, easy_ordering_app, ordered_everything, courier_satisfaction, on_time_delivery in input data\n",
      "training data did not have the following fields: f4, f2, f0, f3, f1, f5.\n",
      "_pre_test decorator: _random_mutation_operator: num_test=0 Unsupported set of arguments: The combination of penalty='l1' and loss='squared_hinge' are not supported when dual=True, Parameters: penalty='l1', loss='squared_hinge', dual=True.\n",
      "_pre_test decorator: _random_mutation_operator: num_test=0 Found array with 0 feature(s) (shape=(50, 0)) while a minimum of 1 is required..\n",
      "_pre_test decorator: _random_mutation_operator: num_test=0 Found array with 0 feature(s) (shape=(50, 0)) while a minimum of 1 is required..\n",
      "_pre_test decorator: _random_mutation_operator: num_test=0 Solver lbfgs supports only dual=False, got dual=True.\n",
      "_pre_test decorator: _random_mutation_operator: num_test=0 Solver lbfgs supports only dual=False, got dual=True.\n",
      "_pre_test decorator: _random_mutation_operator: num_test=0 Found array with 0 feature(s) (shape=(50, 0)) while a minimum of 1 is required..\n",
      "_pre_test decorator: _random_mutation_operator: num_test=0 Unsupported set of arguments: The combination of penalty='l1' and loss='hinge' is not supported, Parameters: penalty='l1', loss='hinge', dual=True.\n",
      "_pre_test decorator: _random_mutation_operator: num_test=0 Solver lbfgs supports only dual=False, got dual=True.\n",
      "_pre_test decorator: _random_mutation_operator: num_test=0 Solver lbfgs supports only 'l2' or 'none' penalties, got l1 penalty..\n",
      "_pre_test decorator: _random_mutation_operator: num_test=0 feature_names mismatch: ['on_time_delivery', 'contents_of_order', 'ordered_everything', 'good_price_paid', 'courier_satisfaction', 'easy_ordering_app'] ['f0', 'f1', 'f2', 'f3', 'f4', 'f5']\n",
      "expected good_price_paid, contents_of_order, easy_ordering_app, ordered_everything, courier_satisfaction, on_time_delivery in input data\n",
      "training data did not have the following fields: f4, f2, f0, f3, f1, f5.\n",
      "\n",
      "Generation 7 - Current Pareto front scores:\n",
      "\n",
      "-1\t0.646923076923077\tXGBClassifier(input_matrix, XGBClassifier__learning_rate=0.001, XGBClassifier__max_depth=6, XGBClassifier__min_child_weight=7, XGBClassifier__n_estimators=100, XGBClassifier__n_jobs=1, XGBClassifier__subsample=0.8, XGBClassifier__verbosity=0)\n",
      "\n",
      "-2\t0.663974358974359\tKNeighborsClassifier(FeatureAgglomeration(input_matrix, FeatureAgglomeration__affinity=cosine, FeatureAgglomeration__linkage=complete), KNeighborsClassifier__n_neighbors=8, KNeighborsClassifier__p=1, KNeighborsClassifier__weights=distance)\n",
      "\n",
      "-4\t0.6903846153846155\tRandomForestClassifier(PCA(RandomForestClassifier(PCA(input_matrix, PCA__iterated_power=7, PCA__svd_solver=randomized), RandomForestClassifier__bootstrap=False, RandomForestClassifier__criterion=gini, RandomForestClassifier__max_features=0.8, RandomForestClassifier__min_samples_leaf=5, RandomForestClassifier__min_samples_split=7, RandomForestClassifier__n_estimators=100), PCA__iterated_power=2, PCA__svd_solver=randomized), RandomForestClassifier__bootstrap=False, RandomForestClassifier__criterion=gini, RandomForestClassifier__max_features=0.9500000000000001, RandomForestClassifier__min_samples_leaf=2, RandomForestClassifier__min_samples_split=19, RandomForestClassifier__n_estimators=100)\n",
      "Periodic pipeline was not saved, probably saved before...\n",
      "Saving periodic pipeline from pareto front to tpot_mnst1.txt/pipeline_gen_7_idx_1_2021.08.13_11-38-43.py\n",
      "Periodic pipeline was not saved, probably saved before...\n"
     ]
    },
    {
     "name": "stdout",
     "output_type": "stream",
     "text": [
      "_pre_test decorator: _random_mutation_operator: num_test=0 Found array with 0 feature(s) (shape=(50, 0)) while a minimum of 1 is required..\n",
      "_pre_test decorator: _random_mutation_operator: num_test=0 Found array with 0 feature(s) (shape=(50, 0)) while a minimum of 1 is required..\n",
      "_pre_test decorator: _random_mutation_operator: num_test=0 Found array with 0 feature(s) (shape=(50, 0)) while a minimum of 1 is required..\n",
      "_pre_test decorator: _random_mutation_operator: num_test=1 Unsupported set of arguments: The combination of penalty='l1' and loss='squared_hinge' are not supported when dual=True, Parameters: penalty='l1', loss='squared_hinge', dual=True.\n",
      "_pre_test decorator: _random_mutation_operator: num_test=0 feature_names mismatch: ['on_time_delivery', 'contents_of_order', 'ordered_everything', 'good_price_paid', 'courier_satisfaction', 'easy_ordering_app'] ['f0', 'f1', 'f2', 'f3', 'f4', 'f5']\n",
      "expected good_price_paid, contents_of_order, easy_ordering_app, ordered_everything, courier_satisfaction, on_time_delivery in input data\n",
      "training data did not have the following fields: f4, f2, f0, f3, f1, f5.\n",
      "_pre_test decorator: _random_mutation_operator: num_test=0 cosine was provided as affinity. Ward can only work with euclidean distances..\n",
      "_pre_test decorator: _random_mutation_operator: num_test=1 Unsupported set of arguments: The combination of penalty='l2' and loss='hinge' are not supported when dual=False, Parameters: penalty='l2', loss='hinge', dual=False.\n",
      "_pre_test decorator: _random_mutation_operator: num_test=0 Unsupported set of arguments: The combination of penalty='l1' and loss='squared_hinge' are not supported when dual=True, Parameters: penalty='l1', loss='squared_hinge', dual=True.\n",
      "_pre_test decorator: _random_mutation_operator: num_test=0 [11:38:55] /Users/travis/build/dmlc/xgboost/src/learner.cc:506: Check failed: mparam_.num_feature != 0 (0 vs. 0) : 0 feature is supplied.  Are you using raw Booster interface?\n",
      "Stack trace:\n",
      "  [bt] (0) 1   libxgboost.dylib                    0x000000012ed141c0 dmlc::LogMessageFatal::~LogMessageFatal() + 112\n",
      "  [bt] (1) 2   libxgboost.dylib                    0x000000012edbab29 xgboost::LearnerConfiguration::ConfigureNumFeatures() + 265\n",
      "  [bt] (2) 3   libxgboost.dylib                    0x000000012edb068d xgboost::LearnerConfiguration::Configure() + 1165\n",
      "  [bt] (3) 4   libxgboost.dylib                    0x000000012edb0c28 xgboost::LearnerImpl::UpdateOneIter(int, std::__1::shared_ptr<xgboost::DMatrix>) + 120\n",
      "  [bt] (4) 5   libxgboost.dylib                    0x000000012ed0c68d XGBoosterUpdateOneIter + 157\n",
      "  [bt] (5) 6   libffi.6.dylib                      0x0000000107583884 ffi_call_unix64 + 76\n",
      "  [bt] (6) 7   ???                                 0x00007ffee91fe3c0 0x0 + 140732809601984\n",
      "\n",
      ".\n",
      "_pre_test decorator: _random_mutation_operator: num_test=0 Found array with 0 feature(s) (shape=(50, 0)) while a minimum of 1 is required by MinMaxScaler..\n",
      "_pre_test decorator: _random_mutation_operator: num_test=0 feature_names mismatch: ['on_time_delivery', 'contents_of_order', 'ordered_everything', 'good_price_paid', 'courier_satisfaction', 'easy_ordering_app'] ['f0', 'f1', 'f2', 'f3', 'f4', 'f5']\n",
      "expected good_price_paid, contents_of_order, easy_ordering_app, ordered_everything, courier_satisfaction, on_time_delivery in input data\n",
      "training data did not have the following fields: f4, f2, f0, f3, f1, f5.\n",
      "_pre_test decorator: _random_mutation_operator: num_test=0 '(slice(None, None, None), 0)' is an invalid key.\n",
      "_pre_test decorator: _random_mutation_operator: num_test=0 Found array with 0 feature(s) (shape=(50, 0)) while a minimum of 1 is required..\n",
      "_pre_test decorator: _random_mutation_operator: num_test=1 Found array with 0 feature(s) (shape=(50, 0)) while a minimum of 1 is required..\n",
      "_pre_test decorator: _random_mutation_operator: num_test=2 cosine was provided as affinity. Ward can only work with euclidean distances..\n",
      "\n",
      "Generation 8 - Current Pareto front scores:\n",
      "\n",
      "-1\t0.646923076923077\tXGBClassifier(input_matrix, XGBClassifier__learning_rate=0.001, XGBClassifier__max_depth=6, XGBClassifier__min_child_weight=7, XGBClassifier__n_estimators=100, XGBClassifier__n_jobs=1, XGBClassifier__subsample=0.8, XGBClassifier__verbosity=0)\n",
      "\n",
      "-2\t0.663974358974359\tKNeighborsClassifier(FeatureAgglomeration(input_matrix, FeatureAgglomeration__affinity=cosine, FeatureAgglomeration__linkage=complete), KNeighborsClassifier__n_neighbors=8, KNeighborsClassifier__p=1, KNeighborsClassifier__weights=distance)\n",
      "\n",
      "-4\t0.6903846153846155\tRandomForestClassifier(PCA(RandomForestClassifier(PCA(input_matrix, PCA__iterated_power=7, PCA__svd_solver=randomized), RandomForestClassifier__bootstrap=False, RandomForestClassifier__criterion=gini, RandomForestClassifier__max_features=0.8, RandomForestClassifier__min_samples_leaf=5, RandomForestClassifier__min_samples_split=7, RandomForestClassifier__n_estimators=100), PCA__iterated_power=2, PCA__svd_solver=randomized), RandomForestClassifier__bootstrap=False, RandomForestClassifier__criterion=gini, RandomForestClassifier__max_features=0.9500000000000001, RandomForestClassifier__min_samples_leaf=2, RandomForestClassifier__min_samples_split=19, RandomForestClassifier__n_estimators=100)\n",
      "Periodic pipeline was not saved, probably saved before...\n",
      "Periodic pipeline was not saved, probably saved before...\n",
      "Periodic pipeline was not saved, probably saved before...\n",
      "_pre_test decorator: _random_mutation_operator: num_test=0 Unsupported set of arguments: The combination of penalty='l1' and loss='hinge' is not supported, Parameters: penalty='l1', loss='hinge', dual=True.\n",
      "_pre_test decorator: _random_mutation_operator: num_test=0 Unsupported set of arguments: The combination of penalty='l1' and loss='squared_hinge' are not supported when dual=True, Parameters: penalty='l1', loss='squared_hinge', dual=True.\n",
      "_pre_test decorator: _mate_operator: num_test=0 Negative values in data passed to MultinomialNB (input X).\n",
      "_pre_test decorator: _random_mutation_operator: num_test=0 Found array with 0 feature(s) (shape=(50, 0)) while a minimum of 1 is required..\n",
      "_pre_test decorator: _random_mutation_operator: num_test=0 feature_names mismatch: ['on_time_delivery', 'contents_of_order', 'ordered_everything', 'good_price_paid', 'courier_satisfaction', 'easy_ordering_app'] ['f0', 'f1', 'f2', 'f3', 'f4', 'f5']\n",
      "expected good_price_paid, contents_of_order, easy_ordering_app, ordered_everything, courier_satisfaction, on_time_delivery in input data\n",
      "training data did not have the following fields: f4, f2, f0, f3, f1, f5.\n",
      "_pre_test decorator: _random_mutation_operator: num_test=0 '(slice(None, None, None), 0)' is an invalid key.\n",
      "_pre_test decorator: _random_mutation_operator: num_test=0 Found array with 0 feature(s) (shape=(50, 0)) while a minimum of 1 is required..\n",
      "_pre_test decorator: _mate_operator: num_test=0 Found array with 0 feature(s) (shape=(50, 0)) while a minimum of 1 is required..\n",
      "_pre_test decorator: _random_mutation_operator: num_test=0 Solver lbfgs supports only dual=False, got dual=True.\n",
      "_pre_test decorator: _random_mutation_operator: num_test=0 [11:39:45] /Users/travis/build/dmlc/xgboost/src/learner.cc:506: Check failed: mparam_.num_feature != 0 (0 vs. 0) : 0 feature is supplied.  Are you using raw Booster interface?\n",
      "Stack trace:\n",
      "  [bt] (0) 1   libxgboost.dylib                    0x000000012ed141c0 dmlc::LogMessageFatal::~LogMessageFatal() + 112\n",
      "  [bt] (1) 2   libxgboost.dylib                    0x000000012edbab29 xgboost::LearnerConfiguration::ConfigureNumFeatures() + 265\n",
      "  [bt] (2) 3   libxgboost.dylib                    0x000000012edb068d xgboost::LearnerConfiguration::Configure() + 1165\n",
      "  [bt] (3) 4   libxgboost.dylib                    0x000000012edb0c28 xgboost::LearnerImpl::UpdateOneIter(int, std::__1::shared_ptr<xgboost::DMatrix>) + 120\n",
      "  [bt] (4) 5   libxgboost.dylib                    0x000000012ed0c68d XGBoosterUpdateOneIter + 157\n",
      "  [bt] (5) 6   libffi.6.dylib                      0x0000000107583884 ffi_call_unix64 + 76\n",
      "  [bt] (6) 7   ???                                 0x00007ffee91fe3c0 0x0 + 140732809601984\n",
      "\n",
      ".\n",
      "_pre_test decorator: _random_mutation_operator: num_test=0 feature_names mismatch: ['on_time_delivery', 'contents_of_order', 'ordered_everything', 'good_price_paid', 'courier_satisfaction', 'easy_ordering_app'] ['f0', 'f1', 'f2', 'f3', 'f4', 'f5']\n",
      "expected good_price_paid, contents_of_order, easy_ordering_app, ordered_everything, courier_satisfaction, on_time_delivery in input data\n",
      "training data did not have the following fields: f4, f2, f0, f3, f1, f5.\n"
     ]
    },
    {
     "name": "stdout",
     "output_type": "stream",
     "text": [
      "_pre_test decorator: _random_mutation_operator: num_test=0 Unsupported set of arguments: The combination of penalty='l1' and loss='hinge' is not supported, Parameters: penalty='l1', loss='hinge', dual=False.\n",
      "_pre_test decorator: _random_mutation_operator: num_test=0 Expected n_neighbors <= n_samples,  but n_samples = 50, n_neighbors = 51.\n",
      "_pre_test decorator: _random_mutation_operator: num_test=0 Expected n_neighbors <= n_samples,  but n_samples = 50, n_neighbors = 70.\n",
      "_pre_test decorator: _random_mutation_operator: num_test=0 Solver lbfgs supports only 'l2' or 'none' penalties, got l1 penalty..\n",
      "Pipeline encountered that has previously been evaluated during the optimization process. Using the score from the previous evaluation.\n",
      "Pipeline encountered that has previously been evaluated during the optimization process. Using the score from the previous evaluation.\n",
      "Pipeline encountered that has previously been evaluated during the optimization process. Using the score from the previous evaluation.\n",
      "\n",
      "Generation 9 - Current Pareto front scores:\n",
      "\n",
      "-1\t0.646923076923077\tXGBClassifier(input_matrix, XGBClassifier__learning_rate=0.001, XGBClassifier__max_depth=6, XGBClassifier__min_child_weight=7, XGBClassifier__n_estimators=100, XGBClassifier__n_jobs=1, XGBClassifier__subsample=0.8, XGBClassifier__verbosity=0)\n",
      "\n",
      "-2\t0.663974358974359\tKNeighborsClassifier(FeatureAgglomeration(input_matrix, FeatureAgglomeration__affinity=cosine, FeatureAgglomeration__linkage=complete), KNeighborsClassifier__n_neighbors=8, KNeighborsClassifier__p=1, KNeighborsClassifier__weights=distance)\n",
      "\n",
      "-3\t0.7080769230769232\tKNeighborsClassifier(PCA(FeatureAgglomeration(input_matrix, FeatureAgglomeration__affinity=cosine, FeatureAgglomeration__linkage=complete), PCA__iterated_power=3, PCA__svd_solver=randomized), KNeighborsClassifier__n_neighbors=8, KNeighborsClassifier__p=1, KNeighborsClassifier__weights=distance)\n",
      "Periodic pipeline was not saved, probably saved before...\n",
      "Periodic pipeline was not saved, probably saved before...\n",
      "Saving periodic pipeline from pareto front to tpot_mnst1.txt/pipeline_gen_9_idx_2_2021.08.13_11-40-17.py\n",
      "_pre_test decorator: _random_mutation_operator: num_test=0 feature_names mismatch: ['on_time_delivery', 'contents_of_order', 'ordered_everything', 'good_price_paid', 'courier_satisfaction', 'easy_ordering_app'] ['f0', 'f1', 'f2', 'f3', 'f4', 'f5']\n",
      "expected good_price_paid, contents_of_order, easy_ordering_app, ordered_everything, courier_satisfaction, on_time_delivery in input data\n",
      "training data did not have the following fields: f4, f2, f0, f3, f1, f5.\n",
      "_pre_test decorator: _random_mutation_operator: num_test=1 feature_names mismatch: ['on_time_delivery', 'contents_of_order', 'ordered_everything', 'good_price_paid', 'courier_satisfaction', 'easy_ordering_app'] ['f0', 'f1', 'f2', 'f3', 'f4', 'f5']\n",
      "expected good_price_paid, contents_of_order, easy_ordering_app, ordered_everything, courier_satisfaction, on_time_delivery in input data\n",
      "training data did not have the following fields: f4, f2, f0, f3, f1, f5.\n",
      "_pre_test decorator: _mate_operator: num_test=0 Found array with 0 feature(s) (shape=(50, 0)) while a minimum of 1 is required..\n",
      "_pre_test decorator: _mate_operator: num_test=1 Found array with 0 feature(s) (shape=(50, 0)) while a minimum of 1 is required..\n",
      "_pre_test decorator: _mate_operator: num_test=2 Found array with 0 feature(s) (shape=(50, 0)) while a minimum of 1 is required..\n",
      "_pre_test decorator: _random_mutation_operator: num_test=0 Found array with 0 feature(s) (shape=(50, 0)) while a minimum of 1 is required..\n",
      "_pre_test decorator: _mate_operator: num_test=0 Found array with 0 feature(s) (shape=(50, 0)) while a minimum of 1 is required..\n",
      "_pre_test decorator: _random_mutation_operator: num_test=0 Found array with 0 feature(s) (shape=(50, 0)) while a minimum of 1 is required..\n",
      "_pre_test decorator: _random_mutation_operator: num_test=0 Expected n_neighbors <= n_samples,  but n_samples = 50, n_neighbors = 53.\n",
      "_pre_test decorator: _random_mutation_operator: num_test=1 Found array with 0 feature(s) (shape=(50, 0)) while a minimum of 1 is required..\n",
      "_pre_test decorator: _mate_operator: num_test=0 Found array with 0 feature(s) (shape=(50, 0)) while a minimum of 1 is required..\n",
      "_pre_test decorator: _random_mutation_operator: num_test=0 Solver lbfgs supports only 'l2' or 'none' penalties, got l1 penalty..\n",
      "_pre_test decorator: _random_mutation_operator: num_test=0 '(slice(None, None, None), 0)' is an invalid key.\n",
      "_pre_test decorator: _random_mutation_operator: num_test=0 Solver lbfgs supports only 'l2' or 'none' penalties, got l1 penalty..\n",
      "_pre_test decorator: _random_mutation_operator: num_test=0 Found array with 0 feature(s) (shape=(50, 0)) while a minimum of 1 is required..\n",
      "_pre_test decorator: _random_mutation_operator: num_test=0 Found array with 0 feature(s) (shape=(50, 0)) while a minimum of 1 is required..\n",
      "_pre_test decorator: _random_mutation_operator: num_test=0 Found array with 0 feature(s) (shape=(50, 0)) while a minimum of 1 is required..\n",
      "\n",
      "Generation 10 - Current Pareto front scores:\n",
      "\n",
      "-1\t0.646923076923077\tXGBClassifier(input_matrix, XGBClassifier__learning_rate=0.001, XGBClassifier__max_depth=6, XGBClassifier__min_child_weight=7, XGBClassifier__n_estimators=100, XGBClassifier__n_jobs=1, XGBClassifier__subsample=0.8, XGBClassifier__verbosity=0)\n",
      "\n",
      "-2\t0.663974358974359\tKNeighborsClassifier(FeatureAgglomeration(input_matrix, FeatureAgglomeration__affinity=cosine, FeatureAgglomeration__linkage=complete), KNeighborsClassifier__n_neighbors=8, KNeighborsClassifier__p=1, KNeighborsClassifier__weights=distance)\n",
      "\n",
      "-3\t0.7080769230769232\tKNeighborsClassifier(PCA(FeatureAgglomeration(input_matrix, FeatureAgglomeration__affinity=cosine, FeatureAgglomeration__linkage=complete), PCA__iterated_power=3, PCA__svd_solver=randomized), KNeighborsClassifier__n_neighbors=8, KNeighborsClassifier__p=1, KNeighborsClassifier__weights=distance)\n",
      "Periodic pipeline was not saved, probably saved before...\n",
      "Periodic pipeline was not saved, probably saved before...\n",
      "Periodic pipeline was not saved, probably saved before...\n"
     ]
    },
    {
     "data": {
      "text/plain": [
       "'import numpy as np\\nimport pandas as pd\\nfrom sklearn.cluster import FeatureAgglomeration\\nfrom sklearn.decomposition import PCA\\nfrom sklearn.model_selection import train_test_split\\nfrom sklearn.neighbors import KNeighborsClassifier\\nfrom sklearn.pipeline import make_pipeline\\nfrom tpot.export_utils import set_param_recursive\\n\\n# NOTE: Make sure that the outcome column is labeled \\'target\\' in the data file\\ntpot_data = pd.read_csv(\\'PATH/TO/DATA/FILE\\', sep=\\'COLUMN_SEPARATOR\\', dtype=np.float64)\\nfeatures = tpot_data.drop(\\'target\\', axis=1)\\ntraining_features, testing_features, training_target, testing_target = \\\\\\n            train_test_split(features, tpot_data[\\'target\\'], random_state=23)\\n\\n# Average CV score on the training set was: 0.7080769230769232\\nexported_pipeline = make_pipeline(\\n    FeatureAgglomeration(affinity=\"cosine\", linkage=\"complete\"),\\n    PCA(iterated_power=3, svd_solver=\"randomized\"),\\n    KNeighborsClassifier(n_neighbors=8, p=1, weights=\"distance\")\\n)\\n# Fix random state for all the steps in exported pipeline\\nset_param_recursive(exported_pipeline.steps, \\'random_state\\', 23)\\n\\nexported_pipeline.fit(training_features, training_target)\\nresults = exported_pipeline.predict(testing_features)\\n'"
      ]
     },
     "execution_count": 80,
     "metadata": {},
     "output_type": "execute_result"
    }
   ],
   "source": [
    "import tpot\n",
    "from tpot import TPOTClassifier\n",
    "# define search\n",
    "model_tpot = TPOTClassifier(verbosity=3, \n",
    "                      scoring=\"balanced_accuracy\", \n",
    "                      random_state=23, \n",
    "                      periodic_checkpoint_folder=\"tpot_mnst1.txt\", \n",
    "                      n_jobs=-1, \n",
    "                      generations=10, \n",
    "                      population_size=100)\n",
    "# perform the search\n",
    "model_tpot.fit(X_train, y_train)\n",
    "# export the best model\n",
    "model_tpot.export()"
   ]
  },
  {
   "cell_type": "markdown",
   "metadata": {},
   "source": [
    "### Conclusion"
   ]
  },
  {
   "cell_type": "markdown",
   "metadata": {},
   "source": [
    "In this problem, I used supervised machine learning classification algorithms to predict if a customer is happy or not based on their feedback. \n",
    "From the EDA, the data distribution shows 45% of customers are unhappy with the service. Most of the customers highly rated the on-time delivery service and app's easy ordering functionality.\n",
    "The customers were unhappy and rated low on the contents of the order delivered. \n",
    "\n",
    "I build classification models to predict customer happiness. First, to have an idea about which model works better before parameter tuning, I used the LazyPredict library to build different models. Based on the LazyClassifier output, I selected 3 classifiers for this classification problem: LGBM, KNN, and SGD classifiers. I also modeling with Random Forest, Logistic Regression, and XGBoost classifiers.\n",
    "To further improve the classifier performance I did feature selection using Recursive Feature Selection (RFE). Based on the RFE feature ranking, I removed the easy_ordering_app feature from the training data and retrain the model.\n",
    "\n",
    "Based on the model performance, the three best classifiers are LGBM (accuracy score:0.84), KNN (accuracy score: 0.69), and Random Forest (accuracy score: 0.61). The model performance can also be improved by collecting more data in the future.\n",
    "I also performed Stacking Ensemble on the above three best classifiers, however, there was not much improvement in the model performance. I also implemented HyperOpt parameter tuning and TPOT classifier in this dataset.  \n",
    "\n",
    "The variables with the highest importance values were the X2 (contents of my order was as I expected) and X1 (my order was delivered on time). So the customers were mostly unhappy with the contents of the order. The contents of the order are either being damaged or changed which can be improved by systematic and careful handling of the order.\n"
   ]
  }
 ],
 "metadata": {
  "kernelspec": {
   "display_name": "Python 3",
   "language": "python",
   "name": "python3"
  },
  "language_info": {
   "codemirror_mode": {
    "name": "ipython",
    "version": 3
   },
   "file_extension": ".py",
   "mimetype": "text/x-python",
   "name": "python",
   "nbconvert_exporter": "python",
   "pygments_lexer": "ipython3",
   "version": "3.7.6"
  }
 },
 "nbformat": 4,
 "nbformat_minor": 4
}
